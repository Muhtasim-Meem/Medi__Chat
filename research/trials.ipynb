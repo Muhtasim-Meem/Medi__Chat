{
 "cells": [
  {
   "cell_type": "code",
   "execution_count": 63,
   "id": "e783fbc9",
   "metadata": {},
   "outputs": [
    {
     "name": "stdout",
     "output_type": "stream",
     "text": [
      "Hello\n"
     ]
    }
   ],
   "source": [
    "print(\"Hello\")"
   ]
  },
  {
   "cell_type": "code",
   "execution_count": 102,
   "id": "7cae40d0",
   "metadata": {},
   "outputs": [],
   "source": [
    "import os\n",
    "os.chdir(r\"D:\\AI\\Medi__Chat\")"
   ]
  },
  {
   "cell_type": "code",
   "execution_count": 103,
   "id": "dac7f5eb",
   "metadata": {},
   "outputs": [
    {
     "data": {
      "text/plain": [
       "'D:\\\\AI\\\\Medi__Chat'"
      ]
     },
     "execution_count": 103,
     "metadata": {},
     "output_type": "execute_result"
    }
   ],
   "source": [
    "%pwd"
   ]
  },
  {
   "cell_type": "code",
   "execution_count": 104,
   "id": "26a8337b",
   "metadata": {},
   "outputs": [],
   "source": [
    "from langchain.document_loaders import PyPDFLoader,DirectoryLoader\n",
    "from langchain.text_splitter import RecursiveCharacterTextSplitter"
   ]
  },
  {
   "cell_type": "code",
   "execution_count": 105,
   "id": "213e8248",
   "metadata": {},
   "outputs": [],
   "source": [
    "def load_pdf(data):\n",
    "    loader = DirectoryLoader(data, glob=\"**/*.pdf\",loader_cls=PyPDFLoader)\n",
    "    documents = loader.load()\n",
    "    return documents"
   ]
  },
  {
   "cell_type": "code",
   "execution_count": 106,
   "id": "0792afe4",
   "metadata": {},
   "outputs": [],
   "source": [
    "extracted_data = load_pdf(data ='Data/')"
   ]
  },
  {
   "cell_type": "code",
   "execution_count": 107,
   "id": "46fbbc53",
   "metadata": {},
   "outputs": [
    {
     "data": {
      "text/plain": [
       "[Document(metadata={'producer': 'Skia/PDF m138 Google Docs Renderer', 'creator': 'PyPDF', 'creationdate': '', 'title': 'Untitled document', 'source': 'Data\\\\napa.pdf', 'total_pages': 9, 'page': 0, 'page_label': '1'}, page_content=\"Napa  Tablet  \\n Pack  Image \\nParacetamol \\n500  mg  \\nBeximco  Pharmaceuticals  Ltd. \\nUnit  Price:  ৳  1.20  (51  x  10:  ৳  612.00)  \\nStrip  Price: ৳  12.00  \\nAlso  available  as:  \\n665  mg  (ER  Tablet) 500  mg  (Tablet) 1000  mg  (Tablet) \\nAlternate  Brands Innovator's  Monograph     বাংলায়  \\x00দ খ ু ন  \\nIndications  \\nNapa  is  indicated  for  fever,  common  cold  and  influenza,  headache,  toothache,  earache,  bodyache,  \\nmyalgia,\\n \\nneuralgia,\\n \\ndysmenorrhoea,\\n \\nsprains,\\n \\ncolic\\n \\npain,\\n \\nback\\n \\npain,\\n \\npost-operative\\n \\npain,\\n \\npostpartum\\n \\npain,\\n \\ninflammatory\\n \\npain\\n \\nand\\n \\npost\\n \\nvaccination\\n \\npain\\n \\nin\\n \\nchildren.\\n \\nIt\\n \\nis\\n \\nalso\\n \\nindicated\\n \\nfor\\n \\nrheumatic\\n \\n&\\n \\nosteoarthritic\\n \\npain\\n \\nand\\n \\nstiffness\\n \\nof\\n \\njoints.\\n \\n*  \\x00 র ি জ স্ট া ড \\x00  ি চ ি ক ৎ স ে ক র  প র া ম শ \\x00  \\x00 ম া ত া ে ব ক  ঔ ষ ধ  \\x00 স ব ন  ক রু ন '  \\nPharmacology  \\nParacetamol  exhibits  analgesic  action  by  peripheral  blockage  of  pain  impulse  generation.  It  \\nproduces\\n \\nantipyresis\\n \\nby\\n \\ninhibiting\\n \\nthe\\n \\nhypothalamic\\n \\nheat-regulating\\n \\ncentre.\\n \\nIts\\n \\nweak\\n \\nanti-inflammatory\\n \\nactivity\\n \\nis\\n \\nrelated\\n \\nto\\n \\ninhibition\\n \\nof\\n \\nprostaglandin\\n \\nsynthesis\\n \\nin\\n \\nthe\\n \\nCNS.\"),\n",
       " Document(metadata={'producer': 'Skia/PDF m138 Google Docs Renderer', 'creator': 'PyPDF', 'creationdate': '', 'title': 'Untitled document', 'source': 'Data\\\\napa.pdf', 'total_pages': 9, 'page': 1, 'page_label': '2'}, page_content=\"Paracetamol  (Acetaminophen)  is  thought  to  act  primarily  in  the  CNS,  increasing  the  pain  threshold  \\nby\\n \\ninhibiting\\n \\nboth\\n \\nisoforms\\n \\nof\\n \\ncyclooxygenase,\\n \\nCOX-1,\\n \\nCOX-2,\\n \\nand\\n \\nCOX-3\\n \\nenzymes\\n \\ninvolved\\n \\nin\\n \\nprostaglandin\\n \\n(PG)\\n \\nsynthesis.\\n \\nUnlike\\n \\nNSAIDs,\\n \\nacetaminophen\\n \\ndoes\\n \\nnot\\n \\ninhibit\\n \\ncyclooxygenase\\n \\nin\\n \\nperipheral\\n \\ntissues\\n \\nand,\\n \\nthus,\\n \\nhas\\n \\nno\\n \\nperipheral\\n \\nanti-inflammatory\\n \\naffects.\\n \\nWhile\\n \\naspirin\\n \\nacts\\n \\nas\\n \\nan\\n \\nirreversible\\n \\ninhibitor\\n \\nof\\n \\nCOX\\n \\nand\\n \\ndirectly\\n \\nblocks\\n \\nthe\\n \\nenzyme's\\n \\nactive\\n \\nsite,\\n \\nstudies\\n \\nhave\\n \\nfound\\n \\nthat\\n \\nacetaminophen\\n \\nindirectly\\n \\nblocks\\n \\nCOX,\\n \\nand\\n \\nthat\\n \\nthis\\n \\nblockade\\n \\nis\\n \\nineffective\\n \\nin\\n \\nthe\\n \\npresence\\n \\nof\\n \\nperoxides.\\n \\nThis\\n \\nmight\\n \\nexplain\\n \\nwhy\\n \\nacetaminophen\\n \\nis\\n \\neffective\\n \\nin\\n \\nthe\\n \\ncentral\\n \\nnervous\\n \\nsystem\\n \\nand\\n \\nin\\n \\nendothelial\\n \\ncells\\n \\nbut\\n \\nnot\\n \\nin\\n \\nplatelets\\n \\nand\\n \\nimmune\\n \\ncells\\n \\nwhich\\n \\nhave\\n \\nhigh\\n \\nlevels\\n \\nof\\n \\nperoxides.\\n \\nStudies\\n \\nalso\\n \\nreport\\n \\ndata\\n \\nsuggesting\\n \\nthat\\n \\nacetaminophen\\n \\nselectively\\n \\nblocks\\n \\na\\n \\nvariant\\n \\nof\\n \\nthe\\n \\nCOX\\n \\nenzyme\\n \\nthat\\n \\nis\\n \\ndifferent\\n \\nfrom\\n \\nthe\\n \\nknown\\n \\nvariants\\n \\nCOX-1\\n \\nand\\n \\nCOX-2.\\n \\nThis\\n \\nenzyme\\n \\nis\\n \\nnow\\n \\nreferred\\n \\nto\\n \\nas\\n \\nCOX-3.\\n \\nIts\\n \\nexact\\n \\nmechanism\\n \\nof\\n \\naction\\n \\nis\\n \\nstill\\n \\npoorly\\n \\nunderstood,\\n \\nbut\\n \\nfuture\\n \\nresearch\\n \\nmay\\n \\nprovide\\n \\nfurther\\n \\ninsight\\n \\ninto\\n \\nhow\\n \\nit\\n \\nworks.\\n \\nThe\\n \\nantipyretic\\n \\nproperties\\n \\nof\\n \\nacetaminophen\\n \\nare\\n \\nlikely\\n \\ndue\\n \\nto\\n \\ndirect\\n \\neffects\\n \\non\\n \\nthe\\n \\nheat-regulating\\n \\ncentres\\n \\nof\\n \\nthe\\n \\nhypothalamus\\n \\nresulting\\n \\nin\\n \\nperipheral\\n \\nvasodilation,\\n \\nsweating\\n \\nand\\n \\nhence\\n \\nheat\\n \\nDosage  &  Administration  \\nTablet:  \\n■  Adult:  1-2  tablets  every  4  to  6  hours  up  to  a  maximum  of  4  gm  (8  tablets)  daily.  ■  Children  (6-12  years):  ½  to  1  tablet  3  to  4  times  daily.  For  long  term  treatment  it  is  wise  not  to  \\nexceed\\n \\nthe\\n \\ndose\\n \\nbeyond\\n \\n2.6\\n \\ngm/day.\\n \\nExtended  Release  Tablet:  \\n■  Adults  &  Children  over  12  years:  Two  tablets,  swallowed  whole,  every  6  to  8  hours  \\n(maximum\\n \\nof\\n \\n6\\n \\ntablets\\n \\nin\\n \\nany\\n \\n24\\n \\nhours).The\\n \\ntablet\\n \\nmust\\n \\nnot\\n \\nbe\\n \\ncrushed.\\n \\nSyrup/Suspension:  \\n■  Children  under  3  months:  10  mg/kg  body  weight  (reduce  to  5  mg/kg  if  jaundiced)  3  to  4  times  \\ndaily.\\n ■  3  months  to  below  1  year:  ½  to  1  teaspoonful  3  to  4  times  daily.  ■  1-5  years:  1  -2  teaspoonful  3  to  4  times  daily.  ■  6-12  years:  2-A  teaspoonful  3  to  4  times  daily.  ■  Adults:  4-8  teaspoonful  3  to  4  times  daily.  \\nSuppository:\"),\n",
       " Document(metadata={'producer': 'Skia/PDF m138 Google Docs Renderer', 'creator': 'PyPDF', 'creationdate': '', 'title': 'Untitled document', 'source': 'Data\\\\napa.pdf', 'total_pages': 9, 'page': 2, 'page_label': '3'}, page_content=\"■  Children  3-12  months:  60-120  mg,4  times  daily.  ■  Children  1-5  years:  125-250  mg  4  times  daily.  ■  Children  6-12  years:  250-500  mg  4  times  daily.  ■  Adults  &  children  over  12  years:  0.5-1  gm  4  times  daily.  \\nPaediatric  Drop:  \\n■  Children  Upto  3  months:  0.5  ml  (40  mg)  ■  4  to  11  months:  1.0  ml  (80  mg)  ■  7  to  2  years:  1.5  ml  (120  mg).  Do  not  exceed  more  than  5  dose  daily  for  a  maximum  of  5  \\ndays.\\n \\nTablet  with  actizorb  technology:  It  dissolves  up  to  five  times  faster  than  standard  Paracetamol  \\ntablets.\\n \\nIt\\n \\nis\\n \\na\\n \\nfast\\n \\nacting\\n \\nand\\n \\nsafe\\n \\nanalgesic\\n \\nwith\\n \\nmarked\\n \\nantipyretic\\n \\nproperty.\\n \\nIt\\n \\nis\\n \\nspecially\\n \\nsuitable\\n \\nfor\\n \\npatients\\n \\nwho,\\n \\nfor\\n \\nany\\n \\nreason,\\n \\ncan\\n \\nnot\\n \\ntolerate\\n \\naspirin\\n \\nor\\n \\nother\\n \\nanalgesics.\\n \\n■  Adults  and  children  (aged  12  years  and  over):  Take  1  to  2  Tablets  every  four  to  six  hours  as  \\nneeded.\\n \\nDo\\n \\nnot\\n \\ntake\\n \\nmore\\n \\nthan\\n \\n8\\n \\ncaplets\\n \\nin\\n \\n24\\n \\nhours.\\n ■  Children  (7  to  11  years):  Take  ½-1  Tablet  every  four  to  six  hours  as  needed.  Do  not  take  \\nmore\\n \\nthan\\n \\n4\\n \\ncaplets\\n \\nin\\n \\n24\\n \\nhours.\\n \\nNot\\n \\nrecommended\\n \\nin\\n \\nchildren\\n \\nunder\\n \\n7\\n \\nyears.\\n \\nIV  Infusion:  \\n■  Adults  and  adolescents  weighing  50  kg  and  over:  the  recommended  dosage  of  Paracetamol  \\nIV\\n \\nis\\n \\n1000\\n \\nmg\\n \\nevery\\n \\n6\\n \\nhours\\n \\nor\\n \\n650\\n \\nmg\\n \\nevery\\n \\n4\\n \\nhours,\\n \\nwith\\n \\na\\n \\nmaximum\\n \\nsingle\\n \\ndose\\n \\nof\\n \\nParacetamol\\n \\nIV\\n \\nof\\n \\n1000\\n \\nmg,\\n \\na\\n \\nminimum\\n \\ndosing\\n \\ninterval\\n \\nof\\n \\n4\\n \\nhours,\\n \\nand\\n \\na\\n \\nmaximum\\n \\ndaily\\n \\ndose\\n \\nof\\n \\nParacetamol\\n \\nof\\n \\n4000\\n \\nmg\\n \\nper\\n \\nday.\\n ■  Adults  and  adolescents  weighing  under  50  kg:  the  recommended  dosage  of  Paracetamol  IV  \\nis\\n \\n15\\n \\nmg/kg\\n \\nevery\\n \\n6\\n \\nhours\\n \\nor\\n \\n12.5\\n \\nmg/kg\\n \\nevery\\n \\n4\\n \\nhours,\\n \\nwith\\n \\na\\n \\nmaximum\\n \\nsingle\\n \\ndose\\n \\nof\\n \\nParacetamol\\n \\nIV\\n \\nof\\n \\n15\\n \\nmg/kg,\\n \\na\\n \\nminimum\\n \\ndosing\\n \\ninterval\\n \\nof\\n \\n4\\n \\nhours,\\n \\nand\\n \\na\\n \\nmaximum\\n \\ndaily\\n \\ndose\\n \\nof\\n \\nParacetamol\\n \\nof\\n \\n75\\n \\nmg/kg\\n \\nper\\n \\nday.\\n ■  Children  >2  to  12  years  of  age:  the  recommended  dosage  of  Paracetamol  IV  is  15  mg/kg  \\nevery\\n \\n6\\n \\nhours\\n \\nor\\n \\n12.5\\n \\nmg/kg\\n \\nevery\\n \\n4\\n \\nhours,\\n \\nwith\\n \\na\\n \\nmaximum\\n \\nsingle\\n \\ndose\\n \\nof\\n \\nParacetamol\\n \\nIV\\n \\nof\\n \\n15\\n \\nmg/kg,\\n \\na\\n \\nminimum\\n \\ndosing\\n \\ninterval\\n \\nof\\n \\n4\\n \\nhours,\\n \\nand\\n \\na\\n \\nmaximum\\n \\ndaily\\n \\ndose\\n \\nof\\n \\nParacetamol\\n \\nof\\n \\n75\\n \\nmg/kg\\n \\nper\\n \\nday.\\n \\n*  \\x00 র ি জ স্ট া ড \\x00  ি চ ি ক ৎ স ে ক র  প র া ম শ \\x00  \\x00 ম া ত া ে ব ক  ঔ ষ ধ  \\x00 স ব ন  ক রু ন '  \\nInteraction\"),\n",
       " Document(metadata={'producer': 'Skia/PDF m138 Google Docs Renderer', 'creator': 'PyPDF', 'creationdate': '', 'title': 'Untitled document', 'source': 'Data\\\\napa.pdf', 'total_pages': 9, 'page': 3, 'page_label': '4'}, page_content='Patients  who  have  taken  barbiturates,  tricyclic  antidepressants  and  alcohol  may  show  diminished  \\nability\\n \\nto\\n \\nmetabolise\\n \\nlarge\\n \\ndoses\\n \\nof\\n \\nNapa.\\n \\nAlcohol\\n \\ncan\\n \\nincrease\\n \\nthe\\n \\nhepatotoxicity\\n \\nof\\n \\nNapa\\n \\noverdosage.\\n \\nChronic\\n \\ningestion\\n \\nof\\n \\nanticonvulsants\\n \\nor\\n \\noral\\n \\nsteroid\\n \\ncontraceptives\\n \\ninduce\\n \\nliver\\n \\nenzymes\\n \\nand\\n \\nmay\\n \\nprevent\\n \\nattainment\\n \\nof\\n \\ntherapeutic\\n \\nNapa\\n \\nlevels\\n \\nby\\n \\nincreasing\\n \\nfirst-pass\\n \\nmetabolism\\n \\nor\\n \\nclearance.\\n \\nContraindications  \\nIt  is  contraindicated  in  known  hypersensitivity  to  Paracetamol.  \\nSide  Effects  \\nSide  effects  of  Napa  are  usually  mild,  though  haematological  reactions  including  thrombocytopenia,  \\nleucopenia,\\n \\npancytopenia,\\n \\nneutropenia,\\n \\nand\\n \\nagranulocytosis\\n \\nhave\\n \\nbeen\\n \\nreported.\\n \\nPancreatitis,\\n \\nskin\\n \\nrashes,\\n \\nand\\n \\nother\\n \\nallergic\\n \\nreactions\\n \\noccur\\n \\noccasionally.\\n \\nPregnancy  &  Lactation  \\nEpidemiological  studies  in  human  pregnancy  have  shown  no  ill  effects  due  to  Paracetamol  used  in  \\nthe\\n \\nrecommended\\n \\ndosage,\\n \\nbut\\n \\npatients\\n \\nshould\\n \\nfollow\\n \\nthe\\n \\nadvice\\n \\nof\\n \\ntheir\\n \\ndoctor\\n \\nregarding\\n \\nits\\n \\nuse.\\n \\nParacetamol\\n \\nis\\n \\nexcreted\\n \\nin\\n \\nbreast\\n \\nmilk,\\n \\nbut\\n \\nnot\\n \\nin\\n \\na\\n \\nclinically\\n \\nsignificant\\n \\namount.\\n \\nAvailable\\n \\npublished\\n \\ndata\\n \\ndo\\n \\nnot\\n \\ncontraindicate\\n \\nbreast\\n \\nfeeding.\\n \\nPrecautions  &  Warnings  \\nCare  is  advised  in  the  administration  of  Napa  to  patients  with  severe  renal  or  severe  hepatic  \\nimpairment.\\n \\nThe\\n \\nhazard\\n \\nof\\n \\noverdose\\n \\nis\\n \\ngreater\\n \\nin\\n \\nthose\\n \\nwith\\n \\nnon-cirrhotic\\n \\nalcoholic\\n \\nliver\\n \\ndisease.\\n \\nDo\\n \\nnot\\n \\nexceed\\n \\nthe\\n \\nstated\\n \\ndose.\\n \\nPatients\\n \\nshould\\n \\nbe\\n \\nadvised\\n \\nnot\\n \\nto\\n \\ntake\\n \\nother\\n \\nNapa-containing\\n \\nproducts\\n \\nconcurrently.\\n \\nNapa\\n \\nshould\\n \\nonly\\n \\nbe\\n \\nused\\n \\nby\\n \\nthe\\n \\npatient\\n \\nfor\\n \\nwhom\\n \\nit\\n \\nis\\n \\nprescribed\\n \\nwhen\\n \\nclearly\\n \\nnecessary.'),\n",
       " Document(metadata={'producer': 'Skia/PDF m138 Google Docs Renderer', 'creator': 'PyPDF', 'creationdate': '', 'title': 'Untitled document', 'source': 'Data\\\\napa.pdf', 'total_pages': 9, 'page': 4, 'page_label': '5'}, page_content='Administration  of  Napa  in  doses  higher  than  recommended  may  result  in  hepatic  injury,  including  the  \\nrisk\\n \\nof\\n \\nsevere\\n \\nhepatotoxicity\\n \\nand\\n \\ndeath.\\n \\nDo\\n \\nnot\\n \\nexceed\\n \\nthe\\n \\nmaximum\\n \\nrecommended\\n \\ndaily\\n \\ndose\\n \\nof\\n \\nNapa.\\n \\nUse\\n \\ncaution\\n \\nwhen\\n \\nadministering\\n \\nNapa\\n \\nin\\n \\npatients\\n \\nwith\\n \\nthe\\n \\nfollowing\\n \\nconditions:\\n \\nhepatic\\n \\nimpairment\\n \\nor\\n \\nactive\\n \\nhepatic\\n \\ndisease,\\n \\nalcoholism,\\n \\nchronic\\n \\nmalnutrition,\\n \\nsevere\\n \\nhypovolemia\\n \\n(e.g.,\\n \\ndue\\n \\nto\\n \\ndehydration\\n \\nor\\n \\nblood\\n \\nloss),\\n \\nor\\n \\nsevere\\n \\nrenal\\n \\nimpairment\\n \\n(creatinine\\n \\nclearance\\n \\n<\\n \\n30\\n \\nml/min).\\n \\nThere\\n \\nwere\\n \\ninfrequent\\n \\nreports\\n \\nof\\n \\nlife-threatening\\n \\nanaphylaxis\\n \\nrequiring\\n \\nemergent\\n \\nmedical\\n \\nattention.\\n \\nDiscontinue\\n \\nNapa\\n \\nIV\\n \\nimmediately\\n \\nif\\n \\nsymptoms\\n \\nassociated\\n \\nwith\\n \\nallergy\\n \\nor\\n \\nhypersensitivity\\n \\noccurs.\\n \\nDo\\n \\nnot\\n \\nuse\\n \\nNapa\\n \\nIV\\n \\nin\\n \\npatients\\n \\nwith\\n \\nNapa\\n \\nallergy.\\n \\nUse  in  Special  Populations  \\nPediatric  Use:  The  safety  and  effectiveness  of  Napa  IV  for  the  treatment  of  acute  pain  and  fever  in  \\npediatric\\n \\npatients\\n \\nages\\n \\n2\\n \\nyears\\n \\nand\\n \\nolder\\n \\nis\\n \\nsupported\\n \\nby\\n \\nevidence\\n \\nfrom\\n \\nadequate\\n \\nand\\n \\nwell-controlled\\n \\nstudies\\n \\nof\\n \\nNapa\\n \\nIV\\n \\nin\\n \\nadults.\\n \\n \\nGeriatric  use:  No  overall  differences  in  safety  or  effectiveness  were  observed  between  these  \\nsubjects\\n \\nand\\n \\nyounger\\n \\nsubjects,\\n \\nand\\n \\nother\\n \\nreported\\n \\nclinical\\n \\nexperience\\n \\nhas\\n \\nnot\\n \\nidentified\\n \\ndifferences\\n \\nin\\n \\nresponses\\n \\nbetween\\n \\nthe\\n \\nelderly\\n \\nand\\n \\nyounger\\n \\npatients.\\n \\n \\nPatients  with  Hepatic  Impairment:  Napa  is  contraindicated  in  patients  with  severe  hepatic  impairment  \\nor\\n \\nsevere\\n \\nactive\\n \\nliver\\n \\ndisease\\n \\nand\\n \\nshould\\n \\nbe\\n \\nused\\n \\nwith\\n \\ncaution\\n \\nin\\n \\npatients\\n \\nwith\\n \\nhepatic\\n \\nimpairment\\n \\nor\\n \\nactive\\n \\nliver\\n \\ndisease.\\n \\nA\\n \\nreduced\\n \\ntotal\\n \\ndaily\\n \\ndose\\n \\nof\\n \\nNapa\\n \\nmay\\n \\nbe\\n \\nwarranted.\\n \\n \\nPatients  with  Renal  Impairment:  In  cases  of  severe  renal  impairment  (creatinine  clearance  <  30  \\nml/min),\\n \\nlonger\\n \\ndosing\\n \\nintervals\\n \\nand\\n \\na\\n \\nreduced\\n \\ntotal\\n \\ndaily\\n \\ndose\\n \\nof\\n \\nNapa\\n \\nmay\\n \\nbe\\n \\nwarranted.\\n \\nOverdose  Effects  \\nLiver  damage  is  possible  in  adults  who  have  taken  10  g  or  more  of  Napa.  Ingestion  of  5  g  or  more  of  \\nNapa\\n \\nmay\\n \\nlead\\n \\nto\\n \\nliver\\n \\ndamage\\n \\nif\\n \\nthe\\n \\npatient\\n \\nhas\\n \\nfollowing\\n \\nrisk\\n \\nfactors:\\n \\nIf\\n \\nthe\\n \\npatient\\n \\nis\\n \\non\\n \\nlong\\n \\nterm\\n \\ntreatment\\n \\nwith\\n \\nCarbamazepine,\\n \\nPhenobarbitone,\\n \\nPhenytoin,\\n \\nPrimidone,\\n \\nRifampicin,\\n \\nSt\\n \\nJohn’s\\n \\nWort\\n \\nor\\n \\nother\\n \\ndrugs\\n \\nthat\\n \\ninduce\\n \\nliver\\n \\nenzymes,\\n \\nor\\n \\nregularly\\n \\nconsumes\\n \\nEthanol\\n \\nin\\n \\nexcess\\n \\nof\\n \\nrecommended'),\n",
       " Document(metadata={'producer': 'Skia/PDF m138 Google Docs Renderer', 'creator': 'PyPDF', 'creationdate': '', 'title': 'Untitled document', 'source': 'Data\\\\napa.pdf', 'total_pages': 9, 'page': 5, 'page_label': '6'}, page_content='amounts,  or  is  likely  to  be  Glutathione  deplete  e.g.  eating  disorders,  cystic  fibrosis,  HIV  infection,  \\nstarvation,\\n \\ncachexia.\\n \\n \\nSymptoms:  Symptoms  of  Napa  overdose  in  the  first  24  hours  are  pallor,  nausea,  vomiting,  anorexia  \\nand\\n \\nabdominal\\n \\npain.\\n \\nLiver\\n \\ndamage\\n \\nmay\\n \\nbecome\\n \\napparent\\n \\n12\\n \\nto\\n \\n48\\n \\nhours\\n \\nafter\\n \\ningestion.\\n \\nAbnormalities\\n \\nof\\n \\nglucose\\n \\nmetabolism\\n \\nand\\n \\nmetabolic\\n \\nacidosis\\n \\nmay\\n \\noccur.\\n \\nIn\\n \\nsevere\\n \\npoisoning,\\n \\nhepatic\\n \\nfailure\\n \\nmay\\n \\nprogress\\n \\nto\\n \\nencephalopathy,\\n \\nhaemorrhage,\\n \\nhypoglycaemia,\\n \\ncerebral\\n \\noedema\\n \\nand\\n \\ndeath.\\n \\nAcute\\n \\nrenal\\n \\nfailure\\n \\nwith\\n \\nacute\\n \\ntubular\\n \\nnecrosis,\\n \\nstrongly\\n \\nsuggested\\n \\nby\\n \\nloin\\n \\npain,\\n \\nhaematuria\\n \\nand\\n \\nproteinuria,\\n \\nmay\\n \\ndevelop\\n \\neven\\n \\nin\\n \\nthe\\n \\nabsence\\n \\nof\\n \\nsevere\\n \\nliver\\n \\ndamage.\\n \\nCardiac\\n \\narrhythmias\\n \\nand\\n \\npancreatitis\\n \\nhave\\n \\nbeen\\n \\nreported.\\n \\nImmediate\\n \\ntreatment\\n \\nis\\n \\nessential\\n \\nin\\n \\nthe\\n \\nmanagement\\n \\nof\\n \\nNapa\\n \\noverdose.\\n \\nTreatment\\n \\nwith\\n \\nactivated\\n \\ncharcoal\\n \\nshould\\n \\nbe\\n \\nconsidered\\n \\nif\\n \\nthe\\n \\noverdose\\n \\nhas\\n \\nbeen\\n \\ntaken\\n \\nwithin\\n \\n1\\n \\nhour.\\n \\nPlasma\\n \\nNapa\\n \\nconcentration\\n \\nshould\\n \\nbe\\n \\nmeasured\\n \\nat\\n \\n4\\n \\nhours\\n \\nor\\n \\nlater\\n \\nafter\\n \\ningestion\\n \\n(earlier\\n \\nconcentrations\\n \\nare\\n \\nunreliable).\\n \\nTreatment\\n \\nwith\\n \\nN-acetylcysteine\\n \\nmay\\n \\nbe\\n \\nused\\n \\nup\\n \\nto\\n \\n24\\n \\nhours\\n \\nafter\\n \\ningestion\\n \\nof\\n \\nNapa.\\n \\nHowever,\\n \\nthe\\n \\nmaximum\\n \\nprotective\\n \\neffect\\n \\nis\\n \\nobtained\\n \\nup\\n \\nto\\n \\n8\\n \\nhours\\n \\npost-ingestion.\\n \\nThe\\n \\neffectiveness\\n \\nof\\n \\nthe\\n \\nantidote\\n \\ndeclines\\n \\nsharply\\n \\nafter\\n \\nthis\\n \\ntime.\\n \\nIf\\n \\nrequired\\n \\nthe\\n \\npatient\\n \\nshould\\n \\nbe\\n \\ngiven\\n \\nintravenous\\n \\nN-acetylcysteine,\\n \\nin\\n \\nline\\n \\nwith\\n \\nthe\\n \\nestablished\\n \\ndosage\\n \\nschedule.\\n \\nIf\\n \\nvomiting\\n \\nis\\n \\nnot\\n \\na\\n \\nproblem,\\n \\noral\\n \\nMethionine\\n \\nmay\\n \\nbe\\n \\na\\n \\nsuitable\\n \\nalternative\\n \\nfor\\n \\nremote\\n \\nareas,\\n \\noutside\\n \\nhospital.\\n \\nManagement\\n \\nof\\n \\npatients\\n \\nwho\\n \\npresent\\n \\nwith\\n \\nserious\\n \\nhepatic\\n \\ndysfunction\\n \\nbeyond\\n \\n24\\n \\nhours\\n \\nfrom\\n \\ningestion\\n \\nshould\\n \\nbe\\n \\ndiscussed\\n \\nwith\\n \\nthe\\n \\nNPIS\\n \\nor\\n \\na\\n \\nliver\\n \\nunit.\\n \\nTherapeutic  Class  \\nNon  opioid  analgesics  \\nStorage  Conditions  \\nKeep  in  a  dry  place  away  from  light  and  heat.  Keep  out  of  the  reach  of  children.  \\nChemical  Structure  \\nMolecular  Formula  :  C\\n8\\nH\\n9\\nNO\\n2\\n \\nChemical  Structure  :'),\n",
       " Document(metadata={'producer': 'Skia/PDF m138 Google Docs Renderer', 'creator': 'PyPDF', 'creationdate': '', 'title': 'Untitled document', 'source': 'Data\\\\napa.pdf', 'total_pages': 9, 'page': 6, 'page_label': '7'}, page_content='Common  Questions  about  Napa  500  mg  Tablet  \\nWhat  is  Napa  500  mg  Tablet?  \\nNapa  500  mg  Tablet  is  a  medication  that  performs  its  action  by  obstructing  the  release  of  pain  and  \\nfever\\n \\nchemical\\n \\nmessengers.\\n \\nWhat  are  the  uses  of  Napa  500  mg  Tablet?  \\nNapa  500  mg  Tablet  is  used  for  the  treatment  and  prevention  of  conditions  and  symptoms  of  \\ndiseases\\n \\nlike\\n \\nPost\\n \\nimmunization\\n \\npyrexia,\\n \\nmenstrual\\n \\ncramps\\n \\nand\\n \\nfever.\\n \\nWhat  are  the  Side  Effects  of  Napa  500  mg  Tablet  Napa  500  mg  Tablet?  \\nAllergic  reaction,  gastric  ulcers,  fatigue,  anemia,  nausea  and  vomiting  are  possible  side  effects.  \\nWhat  are  the  instructions  for  storage  and  disposal  Napa  500  mg  Tablet?  \\nNapa  500  mg  Tablet  should  be  stored  at  room  temperature,  away  from  heat  and  direct  light.  Keep  it  \\naway\\n \\nfrom\\n \\nthe\\n \\nreach\\n \\nof\\n \\nchildren\\n \\nand\\n \\npets.\\n \\nShould  I  use  Napa  500  mg  Tablet  empty  stomach,  before  food  or  after  food?'),\n",
       " Document(metadata={'producer': 'Skia/PDF m138 Google Docs Renderer', 'creator': 'PyPDF', 'creationdate': '', 'title': 'Untitled document', 'source': 'Data\\\\napa.pdf', 'total_pages': 9, 'page': 7, 'page_label': '8'}, page_content='If  you  take  Napa  500  mg  Tablet  with  the  food,  the  reactions  that  took  place  in  the  body  carry-outs  in  \\na\\n \\nmuch\\n \\neffective\\n \\nmanner.\\n \\nHow  long  do  I  need  to  use  Napa  500  mg  Tablet  before  I  see  improvement  in  my  \\nconditions?\\n \\nNapa  500  mg  Tablet  should  be  consumed,  until  the  complete  eradication  of  the  disease.  It  is  advised  \\nto\\n \\nuse,\\n \\ntill\\n \\nthe\\n \\ntime\\n \\ndirected\\n \\nby\\n \\nyour\\n \\ndoctor.\\n \\nIs  there  any  food  or  drink  I  need  to  avoid  while  taking  Napa  500  mg  Tablet?  \\nYou  can  follow  your  normal  diet  under  the  usage  of  Napa  500  mg  Tablet.  \\nWill  Napa  500  mg  Tablet  be  more  effective  if  taken  in  more  than  the  \\nrecommended\\n \\ndose?\\n \\nThere  is  no  need  to  take  Napa  500  mg  Tablet  more  than  its  recommended  doses.  \\nCan  I  take  other  medications  along  with  Napa  500  mg  Tablet?  \\nDo  not  use  any  OTC  for  cough,  cold,  allergy,  or  pain  medication  without  consulting  your  doctor  or  \\npharmacist.\\n \\nNapa\\n \\n500\\n \\nmg\\n \\nTablet\\n \\ncontains\\n \\nmany\\n \\ncombination\\n \\nof\\n \\nmedicines.\\n \\nIf\\n \\nyou\\n \\nuse\\n \\ncertain\\n \\nproducts\\n \\ntogether\\n \\nyou\\n \\nmay\\n \\naccidentally\\n \\nuse\\n \\ntoo\\n \\nmuch\\n \\nof\\n \\nNapa\\n \\n500\\n \\nmg\\n \\nTablet.'),\n",
       " Document(metadata={'producer': 'Skia/PDF m138 Google Docs Renderer', 'creator': 'PyPDF', 'creationdate': '', 'title': 'Untitled document', 'source': 'Data\\\\napa.pdf', 'total_pages': 9, 'page': 8, 'page_label': '9'}, page_content=\"Can  I  take  Napa  500  mg  Tablet  with  antibiotics?  \\nThere  are  hundreds  of  antibiotics  used  to  treat  infections,  so  once  you  receive  your  prescription,  ask  \\nyour\\n \\ndoctor\\n \\nor\\n \\npharmacist\\n \\nif\\n \\nyou\\n \\ncan\\n \\nalso\\n \\ntake\\n \\nNapa\\n \\n500\\n \\nmg\\n \\nTablet\\n \\nat\\n \\nthe\\n \\nsame\\n \\ntime\\n \\nthat\\n \\nyou\\n \\ntake\\n \\nthe\\n \\nantibiotic.\\n \\nIs  Napa  500  mg  Tablet  an  NSAID  drug?  \\nNo,  Napa  500  mg  Tablet  is  not  classified  as  an  NSAID  (nonsteroidal  anti-inflammatory  drug).  It  is  \\nclassified\\n \\nas\\n \\na\\n \\nmiscellaneous\\n \\nanalgesic\\n \\nfor\\n \\nmild\\n \\nto\\n \\nmoderate\\n \\npain\\n \\nand\\n \\nfever.\\n \\nQuick  Tips  \\n■  Napa  500  mg  Tablet  should  be  taken  with  food  or  milk  to  prevent  upset  stomach.  ■  Take  Napa  500  mg  Tablet  as  per  the  dose  and  duration  prescribed  by  your  doctor.  Long  term  \\nuse\\n \\nmay\\n \\nlead\\n \\nto\\n \\nserious\\n \\ncomplications\\n \\nsuch\\n \\nas\\n \\nstomach\\n \\nbleeding\\n \\nand\\n \\nkidney\\n \\nproblems.\\n ■  Do  not  take  indigestion  remedies  (antacids)  within  two  hours  of  taking  Napa  500  mg  Tablet.  ■  Avoid  consuming  alcohol  while  taking  Napa  500  mg  Tablet  as  it  can  increase  your  risk  of  \\nstomach\\n \\nproblems.\\n ■  Inform  your  doctor  if  you  have  liver  disease  as  your  dose  may  need  to  be  adjusted.  ■  Your  doctor  may  regularly  monitor  your  kidney  function,  liver  function  and  levels  of  blood  \\ncomponents\\n \\nif\\n \\nyou\\n \\nare\\n \\ntaking\\n \\nNapa\\n \\n500\\n \\nmg\\n \\nTablet\\n \\nfor\\n \\nlong-term\\n \\ntreatment.\\n \\n*  \\x00 র ি জ স্ট া ড \\x00  ি চ ি ক ৎ স ে ক র  প র া ম শ \\x00  \\x00 ম া ত া ে ব ক  ঔ ষ ধ  \\x00 স ব ন  ক রু ন '\")]"
      ]
     },
     "execution_count": 107,
     "metadata": {},
     "output_type": "execute_result"
    }
   ],
   "source": [
    "extracted_data"
   ]
  },
  {
   "cell_type": "code",
   "execution_count": 108,
   "id": "194e4a72",
   "metadata": {},
   "outputs": [],
   "source": [
    "def text_split(extracted_data):\n",
    "    text_splitter = RecursiveCharacterTextSplitter(chunk_size=500, chunk_overlap=20)\n",
    "    texts_chunks = text_splitter.split_documents(extracted_data)\n",
    "    return texts_chunks"
   ]
  },
  {
   "cell_type": "code",
   "execution_count": 109,
   "id": "5db63f3c",
   "metadata": {},
   "outputs": [
    {
     "name": "stdout",
     "output_type": "stream",
     "text": [
      "Total number of chunks: 41\n"
     ]
    }
   ],
   "source": [
    "texts_chunks = text_split(extracted_data)\n",
    "print(f\"Total number of chunks: {len(texts_chunks)}\")"
   ]
  },
  {
   "cell_type": "code",
   "execution_count": 110,
   "id": "6d6dc3a9",
   "metadata": {},
   "outputs": [],
   "source": [
    "from langchain.embeddings import HuggingFaceEmbeddings"
   ]
  },
  {
   "cell_type": "code",
   "execution_count": 111,
   "id": "75cbad4a",
   "metadata": {},
   "outputs": [],
   "source": [
    "def download_huggingface_embeddings():\n",
    "    embeddings = HuggingFaceEmbeddings(model_name=\"sentence-transformers/all-MiniLM-L6-v2\")\n",
    "    return embeddings"
   ]
  },
  {
   "cell_type": "code",
   "execution_count": 112,
   "id": "8f3542eb",
   "metadata": {},
   "outputs": [],
   "source": [
    "embeddings= download_huggingface_embeddings()"
   ]
  },
  {
   "cell_type": "code",
   "execution_count": 113,
   "id": "099ced9a",
   "metadata": {},
   "outputs": [
    {
     "name": "stdout",
     "output_type": "stream",
     "text": [
      "Query result: 384\n"
     ]
    }
   ],
   "source": [
    "query_result = embeddings.embed_query(\"What is the capital of France?\")\n",
    "print(\"Query result:\" ,len(query_result)) "
   ]
  },
  {
   "cell_type": "code",
   "execution_count": 115,
   "id": "9eae8315",
   "metadata": {},
   "outputs": [
    {
     "data": {
      "text/plain": [
       "[0.08204810321331024,\n",
       " 0.036055512726306915,\n",
       " -0.00389288691803813,\n",
       " -0.004881049506366253,\n",
       " 0.025651132687926292,\n",
       " -0.05714340880513191,\n",
       " 0.012191588059067726,\n",
       " 0.004678947385400534,\n",
       " 0.034949883818626404,\n",
       " -0.022421862930059433,\n",
       " -0.008005218580365181,\n",
       " -0.10935357213020325,\n",
       " 0.022724738344550133,\n",
       " -0.02932084910571575,\n",
       " -0.04352204129099846,\n",
       " -0.1202412098646164,\n",
       " -0.0008486099541187286,\n",
       " -0.018150143325328827,\n",
       " 0.0561295747756958,\n",
       " 0.003085245843976736,\n",
       " 0.0023363654036074877,\n",
       " -0.016839245334267616,\n",
       " 0.06362469494342804,\n",
       " -0.02366028167307377,\n",
       " 0.03149349242448807,\n",
       " -0.03479795157909393,\n",
       " -0.020548852160573006,\n",
       " -0.0027910282369703054,\n",
       " -0.011038017459213734,\n",
       " -0.036126699298620224,\n",
       " 0.0541410855948925,\n",
       " -0.03661712631583214,\n",
       " -0.025008630007505417,\n",
       " -0.03817038983106613,\n",
       " -0.0496036559343338,\n",
       " -0.015148119069635868,\n",
       " 0.02131502516567707,\n",
       " -0.012740450911223888,\n",
       " 0.07670092582702637,\n",
       " 0.044355735182762146,\n",
       " -0.010834883898496628,\n",
       " -0.029759937897324562,\n",
       " -0.016970494762063026,\n",
       " -0.024691859260201454,\n",
       " 0.008087125606834888,\n",
       " 0.043587714433670044,\n",
       " 0.007177482359111309,\n",
       " 0.07550127059221268,\n",
       " 0.03280666470527649,\n",
       " -0.06204643473029137,\n",
       " 0.06677898019552231,\n",
       " 0.02709134854376316,\n",
       " -0.04568945989012718,\n",
       " -0.03144116327166557,\n",
       " -0.031155306845903397,\n",
       " 0.09153682738542557,\n",
       " -0.001788211870007217,\n",
       " -0.011282633058726788,\n",
       " 0.03649931028485298,\n",
       " 0.056927118450403214,\n",
       " 0.0023000084329396486,\n",
       " -0.03775057941675186,\n",
       " -0.015484686009585857,\n",
       " 0.05239146202802658,\n",
       " 0.060364410281181335,\n",
       " -0.016648277640342712,\n",
       " 0.00880997534841299,\n",
       " -0.006622255314141512,\n",
       " -0.10629706084728241,\n",
       " 0.001715914928354323,\n",
       " -0.048305850476026535,\n",
       " -0.029768718406558037,\n",
       " 0.004325526300817728,\n",
       " -0.08567406237125397,\n",
       " 0.0662078782916069,\n",
       " -0.05518354848027229,\n",
       " -0.11332662403583527,\n",
       " 0.05084018409252167,\n",
       " -0.009317226707935333,\n",
       " 0.006006704643368721,\n",
       " 0.021012762561440468,\n",
       " -0.02251545526087284,\n",
       " 0.0004726817714981735,\n",
       " 0.05638975277543068,\n",
       " 0.045443445444107056,\n",
       " -0.005277471616864204,\n",
       " 0.09359360486268997,\n",
       " 0.027460286393761635,\n",
       " 0.02944197691977024,\n",
       " -0.04569660499691963,\n",
       " -0.048944346606731415,\n",
       " 0.0013615615898743272,\n",
       " -0.012853419408202171,\n",
       " 0.07980713248252869,\n",
       " -0.11903543770313263,\n",
       " 0.06876883655786514,\n",
       " -0.02271832711994648,\n",
       " 0.04485704004764557,\n",
       " -0.08129197359085083,\n",
       " 0.044057782739400864,\n",
       " 0.002956356853246689,\n",
       " 0.017621047794818878,\n",
       " 0.08311299234628677,\n",
       " -0.01805497333407402,\n",
       " -0.047923583537340164,\n",
       " 0.0586671456694603,\n",
       " 0.006246443372219801,\n",
       " -0.014656800776720047,\n",
       " -0.0073372311890125275,\n",
       " -0.07807912677526474,\n",
       " -0.10076913982629776,\n",
       " -0.0335267148911953,\n",
       " -0.0009018550044856966,\n",
       " -0.051131218671798706,\n",
       " 0.02722170203924179,\n",
       " 0.07086154073476791,\n",
       " 0.04740172252058983,\n",
       " -0.10456674546003342,\n",
       " 0.004401138983666897,\n",
       " -0.02879374288022518,\n",
       " -0.018355779349803925,\n",
       " -0.05058592930436134,\n",
       " -0.03154187276959419,\n",
       " -0.009517701342701912,\n",
       " -0.0606447272002697,\n",
       " 0.021163947880268097,\n",
       " -0.046602219343185425,\n",
       " -7.755119002722617e-33,\n",
       " -0.03129623085260391,\n",
       " 0.05634507164359093,\n",
       " 0.07738031446933746,\n",
       " 0.06391444057226181,\n",
       " -0.04664717614650726,\n",
       " -0.007570452056825161,\n",
       " -0.0553264394402504,\n",
       " 0.040277499705553055,\n",
       " -0.031523969024419785,\n",
       " -0.007102940697222948,\n",
       " 0.03959235921502113,\n",
       " -0.1317119151353836,\n",
       " -0.06614517420530319,\n",
       " 0.021774910390377045,\n",
       " 0.09698936343193054,\n",
       " 0.011799254454672337,\n",
       " 0.08900415152311325,\n",
       " 0.03468594327569008,\n",
       " -0.043871790170669556,\n",
       " -0.0001668203913141042,\n",
       " 0.01468084380030632,\n",
       " -0.0027094108518213034,\n",
       " -0.0033176112920045853,\n",
       " 0.017400015145540237,\n",
       " 0.060105204582214355,\n",
       " 0.039495185017585754,\n",
       " -0.0017327445093542337,\n",
       " 0.0772835835814476,\n",
       " 0.014559634029865265,\n",
       " -0.0021933517418801785,\n",
       " -0.0018453382654115558,\n",
       " 0.015014758333563805,\n",
       " 0.021672911942005157,\n",
       " 0.007331325672566891,\n",
       " 0.017999546602368355,\n",
       " 0.04974411427974701,\n",
       " 0.012588179670274258,\n",
       " -0.0026321876794099808,\n",
       " 0.04346170648932457,\n",
       " 0.06297489255666733,\n",
       " 0.06660723686218262,\n",
       " -0.03639739006757736,\n",
       " -0.03872956708073616,\n",
       " 0.0440126433968544,\n",
       " 0.005643452983349562,\n",
       " 0.005692583043128252,\n",
       " -0.034878503531217575,\n",
       " -0.07138057798147202,\n",
       " 0.10089900344610214,\n",
       " -0.024756351485848427,\n",
       " 0.014684416353702545,\n",
       " -0.025919565930962563,\n",
       " -0.07273470610380173,\n",
       " -0.017434189096093178,\n",
       " 0.026018893346190453,\n",
       " 0.11413374543190002,\n",
       " -0.07092969119548798,\n",
       " 0.01804063282907009,\n",
       " -0.003364534815773368,\n",
       " 0.008468259125947952,\n",
       " -0.0031982711516320705,\n",
       " 0.00592530844733119,\n",
       " -0.022993480786681175,\n",
       " 0.07761328667402267,\n",
       " 0.03472597151994705,\n",
       " 0.08739190548658371,\n",
       " 0.046261001378297806,\n",
       " 0.018758689984679222,\n",
       " 0.011047509498894215,\n",
       " -0.04582415893673897,\n",
       " -0.04647431522607803,\n",
       " 0.026539426296949387,\n",
       " 0.07402203977108002,\n",
       " 0.06560054421424866,\n",
       " 0.06272172182798386,\n",
       " 0.07237667590379715,\n",
       " -0.008960544131696224,\n",
       " -0.03532489389181137,\n",
       " -0.00538460211828351,\n",
       " -0.003218853147700429,\n",
       " -0.03802552819252014,\n",
       " -0.04136471822857857,\n",
       " -0.09670210629701614,\n",
       " 0.0442192479968071,\n",
       " -0.03350631892681122,\n",
       " -0.07136602699756622,\n",
       " -0.01164280902594328,\n",
       " -0.007111174985766411,\n",
       " 0.0006453847163356841,\n",
       " -0.088380366563797,\n",
       " -0.11334281414747238,\n",
       " -0.12120429426431656,\n",
       " -0.0013210914330556989,\n",
       " -0.04424310475587845,\n",
       " -0.08665942400693893,\n",
       " 3.997688411859623e-33,\n",
       " 0.02527613565325737,\n",
       " -0.0026350084226578474,\n",
       " -0.08112998306751251,\n",
       " 0.025461873039603233,\n",
       " 0.0013292506337165833,\n",
       " 0.016038047149777412,\n",
       " 0.09549158811569214,\n",
       " 0.033217012882232666,\n",
       " -0.01204893458634615,\n",
       " 0.016985630616545677,\n",
       " -0.08307889848947525,\n",
       " -0.12452162057161331,\n",
       " 0.04390955716371536,\n",
       " 0.012151048518717289,\n",
       " 0.06574595719575882,\n",
       " 0.10052963346242905,\n",
       " 0.07295702397823334,\n",
       " -0.026920275762677193,\n",
       " -0.03218481317162514,\n",
       " -0.05346691980957985,\n",
       " -0.12637238204479218,\n",
       " 0.005398073699325323,\n",
       " -0.03539092838764191,\n",
       " -0.004279986023902893,\n",
       " -0.025039449334144592,\n",
       " 0.041625648736953735,\n",
       " -0.09993347525596619,\n",
       " -0.04765273258090019,\n",
       " -0.023976018652319908,\n",
       " 0.0026397681795060635,\n",
       " -0.05519098788499832,\n",
       " 0.013548429124057293,\n",
       " 0.04904068633913994,\n",
       " 0.08499687165021896,\n",
       " -0.042024560272693634,\n",
       " 0.07673397660255432,\n",
       " 0.033213093876838684,\n",
       " 0.0012652660952880979,\n",
       " 0.039995044469833374,\n",
       " 0.06455167382955551,\n",
       " -0.04337266832590103,\n",
       " -0.04965046048164368,\n",
       " 0.05795803293585777,\n",
       " 0.112678661942482,\n",
       " 0.07069911807775497,\n",
       " 0.008226467296481133,\n",
       " 0.04381539672613144,\n",
       " -0.022527912631630898,\n",
       " -0.007248726673424244,\n",
       " 0.04985778033733368,\n",
       " 0.038604985922575,\n",
       " 0.06791183352470398,\n",
       " -0.04107005521655083,\n",
       " 0.005732240621000528,\n",
       " 0.01790805533528328,\n",
       " 0.04930579289793968,\n",
       " -0.05145527794957161,\n",
       " 0.05103079974651337,\n",
       " -0.09380979835987091,\n",
       " -0.06816750019788742,\n",
       " 0.06526283919811249,\n",
       " 0.0754573717713356,\n",
       " -0.016841869801282883,\n",
       " 0.06612513959407806,\n",
       " -0.002897116122767329,\n",
       " -0.020738156512379646,\n",
       " -0.12700852751731873,\n",
       " 0.06160477548837662,\n",
       " -0.009813218377530575,\n",
       " -0.014706132933497429,\n",
       " 0.13544602692127228,\n",
       " 0.034136876463890076,\n",
       " -0.06481853872537613,\n",
       " 0.05101708322763443,\n",
       " -0.06637553125619888,\n",
       " 0.029188312590122223,\n",
       " 0.07939159125089645,\n",
       " 0.014440307393670082,\n",
       " -0.027310024946928024,\n",
       " 0.005267053376883268,\n",
       " -0.06761956959962845,\n",
       " -0.020494453608989716,\n",
       " -0.02714473195374012,\n",
       " -0.02614976465702057,\n",
       " -0.0705466940999031,\n",
       " 0.0347178615629673,\n",
       " 0.0076125203631818295,\n",
       " -0.10216674953699112,\n",
       " 0.058427825570106506,\n",
       " -0.07478600740432739,\n",
       " -0.021968036890029907,\n",
       " -0.006808712147176266,\n",
       " -0.05130327492952347,\n",
       " -0.036969855427742004,\n",
       " 0.025690186768770218,\n",
       " -1.750151490398366e-08,\n",
       " 0.06809661537408829,\n",
       " 0.04500087723135948,\n",
       " -0.044086337089538574,\n",
       " 0.012878756038844585,\n",
       " -0.05775941535830498,\n",
       " -0.09547635912895203,\n",
       " 0.06219948083162308,\n",
       " -0.004272668622434139,\n",
       " -0.008670225739479065,\n",
       " 0.00025494175497442484,\n",
       " -0.0736115351319313,\n",
       " 0.05606213957071304,\n",
       " -0.06970255821943283,\n",
       " -0.05111624300479889,\n",
       " -0.04102281481027603,\n",
       " -0.004761007614433765,\n",
       " -0.03246322646737099,\n",
       " 0.04304736852645874,\n",
       " 0.008683174848556519,\n",
       " 0.02270781807601452,\n",
       " -0.004905311856418848,\n",
       " 0.02335798367857933,\n",
       " -0.04563944414258003,\n",
       " -0.05810331180691719,\n",
       " 0.012541434727609158,\n",
       " -0.09903229027986526,\n",
       " 0.04062918201088905,\n",
       " 0.04566889628767967,\n",
       " 0.002715892158448696,\n",
       " -0.005313045345246792,\n",
       " 0.0664028525352478,\n",
       " -0.02728758379817009,\n",
       " -0.05007481202483177,\n",
       " -0.0902949646115303,\n",
       " -0.036122292280197144,\n",
       " 0.012680106796324253,\n",
       " -0.005830500740557909,\n",
       " -0.005093303509056568,\n",
       " 0.009507497772574425,\n",
       " -0.029052454978227615,\n",
       " 0.09497947990894318,\n",
       " 0.061990682035684586,\n",
       " 0.012536678463220596,\n",
       " -0.011961045674979687,\n",
       " 0.02452566660940647,\n",
       " 0.04538293927907944,\n",
       " 0.053821105509996414,\n",
       " -0.035177186131477356,\n",
       " 0.11464711278676987,\n",
       " -0.08902022242546082,\n",
       " -0.11148509383201599,\n",
       " 0.09941156953573227,\n",
       " 0.003938902169466019,\n",
       " 0.004478368442505598,\n",
       " 0.003446596674621105,\n",
       " 0.07089641690254211,\n",
       " -0.05129360780119896,\n",
       " -0.012674178928136826,\n",
       " 0.02187472954392433,\n",
       " -0.020011937245726585,\n",
       " -0.014911307953298092,\n",
       " 0.04920433089137077,\n",
       " 0.08929189294576645,\n",
       " -0.011127758771181107]"
      ]
     },
     "execution_count": 115,
     "metadata": {},
     "output_type": "execute_result"
    }
   ],
   "source": [
    "query_result\n"
   ]
  },
  {
   "cell_type": "code",
   "execution_count": 116,
   "id": "40e3bff3",
   "metadata": {},
   "outputs": [
    {
     "data": {
      "text/plain": [
       "True"
      ]
     },
     "execution_count": 116,
     "metadata": {},
     "output_type": "execute_result"
    }
   ],
   "source": [
    "from dotenv import load_dotenv\n",
    "load_dotenv()"
   ]
  },
  {
   "cell_type": "code",
   "execution_count": 117,
   "id": "daa124f8",
   "metadata": {},
   "outputs": [],
   "source": [
    "import os\n",
    "PINECONE_API_KEY = os.environ.get(\"PINECONE_API_KEY\")\n",
    "GEMINI_API_KEY = os.environ.get(\"GEMINI_API_KEY\")\n"
   ]
  },
  {
   "cell_type": "code",
   "execution_count": 118,
   "id": "8c4fe1cb",
   "metadata": {},
   "outputs": [],
   "source": [
    "import os\n",
    "os.environ[\"PINECONE_API_KEY\"] = PINECONE_API_KEY\n",
    "os.environ[\"GEMINI_API_KEY\"] = GEMINI_API_KEY"
   ]
  },
  {
   "cell_type": "code",
   "execution_count": 119,
   "id": "d2b55f52",
   "metadata": {},
   "outputs": [
    {
     "ename": "PineconeApiException",
     "evalue": "(409)\nReason: Conflict\nHTTP response headers: HTTPHeaderDict({'content-type': 'text/plain; charset=utf-8', 'access-control-allow-origin': '*', 'vary': 'origin,access-control-request-method,access-control-request-headers', 'access-control-expose-headers': '*', 'x-pinecone-api-version': '2025-04', 'x-cloud-trace-context': '01d3916f89015448a0f1f7840ea7a864', 'date': 'Fri, 06 Jun 2025 09:10:55 GMT', 'server': 'Google Frontend', 'Content-Length': '85', 'Via': '1.1 google', 'Alt-Svc': 'h3=\":443\"; ma=2592000,h3-29=\":443\"; ma=2592000'})\nHTTP response body: {\"error\":{\"code\":\"ALREADY_EXISTS\",\"message\":\"Resource  already exists\"},\"status\":409}\n",
     "output_type": "error",
     "traceback": [
      "\u001b[1;31m---------------------------------------------------------------------------\u001b[0m",
      "\u001b[1;31mPineconeApiException\u001b[0m                      Traceback (most recent call last)",
      "Cell \u001b[1;32mIn[119], line 13\u001b[0m\n\u001b[0;32m     10\u001b[0m index_name \u001b[38;5;241m=\u001b[39m \u001b[38;5;124m\"\u001b[39m\u001b[38;5;124mmedichat\u001b[39m\u001b[38;5;124m\"\u001b[39m\n\u001b[0;32m     12\u001b[0m \u001b[38;5;28;01mif\u001b[39;00m index_name \u001b[38;5;129;01mnot\u001b[39;00m \u001b[38;5;129;01min\u001b[39;00m pc\u001b[38;5;241m.\u001b[39mlist_indexes():\n\u001b[1;32m---> 13\u001b[0m     \u001b[43mpc\u001b[49m\u001b[38;5;241;43m.\u001b[39;49m\u001b[43mcreate_index\u001b[49m\u001b[43m(\u001b[49m\n\u001b[0;32m     14\u001b[0m \u001b[43m        \u001b[49m\u001b[43mname\u001b[49m\u001b[38;5;241;43m=\u001b[39;49m\u001b[43mindex_name\u001b[49m\u001b[43m,\u001b[49m\n\u001b[0;32m     15\u001b[0m \u001b[43m        \u001b[49m\u001b[43mdimension\u001b[49m\u001b[38;5;241;43m=\u001b[39;49m\u001b[38;5;241;43m384\u001b[39;49m\u001b[43m,\u001b[49m\n\u001b[0;32m     16\u001b[0m \u001b[43m        \u001b[49m\u001b[43mmetric\u001b[49m\u001b[38;5;241;43m=\u001b[39;49m\u001b[38;5;124;43m\"\u001b[39;49m\u001b[38;5;124;43mcosine\u001b[39;49m\u001b[38;5;124;43m\"\u001b[39;49m\u001b[43m,\u001b[49m\n\u001b[0;32m     17\u001b[0m \u001b[43m        \u001b[49m\u001b[43mspec\u001b[49m\u001b[38;5;241;43m=\u001b[39;49m\u001b[43mServerlessSpec\u001b[49m\u001b[43m(\u001b[49m\n\u001b[0;32m     18\u001b[0m \u001b[43m            \u001b[49m\u001b[43mcloud\u001b[49m\u001b[38;5;241;43m=\u001b[39;49m\u001b[38;5;124;43m\"\u001b[39;49m\u001b[38;5;124;43maws\u001b[39;49m\u001b[38;5;124;43m\"\u001b[39;49m\u001b[43m,\u001b[49m\n\u001b[0;32m     19\u001b[0m \u001b[43m            \u001b[49m\u001b[43mregion\u001b[49m\u001b[38;5;241;43m=\u001b[39;49m\u001b[38;5;124;43m\"\u001b[39;49m\u001b[38;5;124;43mus-east-1\u001b[39;49m\u001b[38;5;124;43m\"\u001b[39;49m\u001b[43m  \u001b[49m\n\u001b[0;32m     20\u001b[0m \u001b[43m        \u001b[49m\u001b[43m)\u001b[49m\n\u001b[0;32m     21\u001b[0m \u001b[43m    \u001b[49m\u001b[43m)\u001b[49m\n\u001b[0;32m     23\u001b[0m \u001b[38;5;28mprint\u001b[39m(\u001b[38;5;124mf\u001b[39m\u001b[38;5;124m\"\u001b[39m\u001b[38;5;124mIndex \u001b[39m\u001b[38;5;124m'\u001b[39m\u001b[38;5;132;01m{\u001b[39;00mindex_name\u001b[38;5;132;01m}\u001b[39;00m\u001b[38;5;124m'\u001b[39m\u001b[38;5;124m is ready!\u001b[39m\u001b[38;5;124m\"\u001b[39m)\n",
      "File \u001b[1;32mc:\\Users\\Muhtasim\\Anaconda3\\envs\\medibot\\lib\\site-packages\\pinecone\\pinecone.py:188\u001b[0m, in \u001b[0;36mPinecone.create_index\u001b[1;34m(self, name, spec, dimension, metric, timeout, deletion_protection, vector_type, tags)\u001b[0m\n\u001b[0;32m    177\u001b[0m \u001b[38;5;28;01mdef\u001b[39;00m\u001b[38;5;250m \u001b[39m\u001b[38;5;21mcreate_index\u001b[39m(\n\u001b[0;32m    178\u001b[0m     \u001b[38;5;28mself\u001b[39m,\n\u001b[0;32m    179\u001b[0m     name: \u001b[38;5;28mstr\u001b[39m,\n\u001b[1;32m   (...)\u001b[0m\n\u001b[0;32m    186\u001b[0m     tags: Optional[Dict[\u001b[38;5;28mstr\u001b[39m, \u001b[38;5;28mstr\u001b[39m]] \u001b[38;5;241m=\u001b[39m \u001b[38;5;28;01mNone\u001b[39;00m,\n\u001b[0;32m    187\u001b[0m ) \u001b[38;5;241m-\u001b[39m\u001b[38;5;241m>\u001b[39m \u001b[38;5;124m\"\u001b[39m\u001b[38;5;124mIndexModel\u001b[39m\u001b[38;5;124m\"\u001b[39m:\n\u001b[1;32m--> 188\u001b[0m     \u001b[38;5;28;01mreturn\u001b[39;00m \u001b[38;5;28;43mself\u001b[39;49m\u001b[38;5;241;43m.\u001b[39;49m\u001b[43mdb\u001b[49m\u001b[38;5;241;43m.\u001b[39;49m\u001b[43mindex\u001b[49m\u001b[38;5;241;43m.\u001b[39;49m\u001b[43mcreate\u001b[49m\u001b[43m(\u001b[49m\n\u001b[0;32m    189\u001b[0m \u001b[43m        \u001b[49m\u001b[43mname\u001b[49m\u001b[38;5;241;43m=\u001b[39;49m\u001b[43mname\u001b[49m\u001b[43m,\u001b[49m\n\u001b[0;32m    190\u001b[0m \u001b[43m        \u001b[49m\u001b[43mspec\u001b[49m\u001b[38;5;241;43m=\u001b[39;49m\u001b[43mspec\u001b[49m\u001b[43m,\u001b[49m\n\u001b[0;32m    191\u001b[0m \u001b[43m        \u001b[49m\u001b[43mdimension\u001b[49m\u001b[38;5;241;43m=\u001b[39;49m\u001b[43mdimension\u001b[49m\u001b[43m,\u001b[49m\n\u001b[0;32m    192\u001b[0m \u001b[43m        \u001b[49m\u001b[43mmetric\u001b[49m\u001b[38;5;241;43m=\u001b[39;49m\u001b[43mmetric\u001b[49m\u001b[43m,\u001b[49m\n\u001b[0;32m    193\u001b[0m \u001b[43m        \u001b[49m\u001b[43mtimeout\u001b[49m\u001b[38;5;241;43m=\u001b[39;49m\u001b[43mtimeout\u001b[49m\u001b[43m,\u001b[49m\n\u001b[0;32m    194\u001b[0m \u001b[43m        \u001b[49m\u001b[43mdeletion_protection\u001b[49m\u001b[38;5;241;43m=\u001b[39;49m\u001b[43mdeletion_protection\u001b[49m\u001b[43m,\u001b[49m\n\u001b[0;32m    195\u001b[0m \u001b[43m        \u001b[49m\u001b[43mvector_type\u001b[49m\u001b[38;5;241;43m=\u001b[39;49m\u001b[43mvector_type\u001b[49m\u001b[43m,\u001b[49m\n\u001b[0;32m    196\u001b[0m \u001b[43m        \u001b[49m\u001b[43mtags\u001b[49m\u001b[38;5;241;43m=\u001b[39;49m\u001b[43mtags\u001b[49m\u001b[43m,\u001b[49m\n\u001b[0;32m    197\u001b[0m \u001b[43m    \u001b[49m\u001b[43m)\u001b[49m\n",
      "File \u001b[1;32mc:\\Users\\Muhtasim\\Anaconda3\\envs\\medibot\\lib\\site-packages\\pinecone\\utils\\require_kwargs.py:14\u001b[0m, in \u001b[0;36mrequire_kwargs.<locals>.wrapper\u001b[1;34m(*args, **kwargs)\u001b[0m\n\u001b[0;32m      9\u001b[0m     param_names \u001b[38;5;241m=\u001b[39m \u001b[38;5;28mlist\u001b[39m(inspect\u001b[38;5;241m.\u001b[39msignature(func)\u001b[38;5;241m.\u001b[39mparameters\u001b[38;5;241m.\u001b[39mkeys())[\u001b[38;5;241m1\u001b[39m:]  \u001b[38;5;66;03m# Skip self\u001b[39;00m\n\u001b[0;32m     10\u001b[0m     \u001b[38;5;28;01mraise\u001b[39;00m \u001b[38;5;167;01mTypeError\u001b[39;00m(\n\u001b[0;32m     11\u001b[0m         \u001b[38;5;124mf\u001b[39m\u001b[38;5;124m\"\u001b[39m\u001b[38;5;132;01m{\u001b[39;00mfunc\u001b[38;5;241m.\u001b[39m\u001b[38;5;18m__name__\u001b[39m\u001b[38;5;132;01m}\u001b[39;00m\u001b[38;5;124m() requires keyword arguments. \u001b[39m\u001b[38;5;124m\"\u001b[39m\n\u001b[0;32m     12\u001b[0m         \u001b[38;5;124mf\u001b[39m\u001b[38;5;124m\"\u001b[39m\u001b[38;5;124mPlease use \u001b[39m\u001b[38;5;132;01m{\u001b[39;00mfunc\u001b[38;5;241m.\u001b[39m\u001b[38;5;18m__name__\u001b[39m\u001b[38;5;132;01m}\u001b[39;00m\u001b[38;5;124m(\u001b[39m\u001b[38;5;132;01m{\u001b[39;00m\u001b[38;5;124m'\u001b[39m\u001b[38;5;124m, \u001b[39m\u001b[38;5;124m'\u001b[39m\u001b[38;5;241m.\u001b[39mjoin(\u001b[38;5;124mf\u001b[39m\u001b[38;5;124m'\u001b[39m\u001b[38;5;132;01m{\u001b[39;00mname\u001b[38;5;132;01m}\u001b[39;00m\u001b[38;5;124m=value\u001b[39m\u001b[38;5;124m'\u001b[39m\u001b[38;5;250m \u001b[39m\u001b[38;5;28;01mfor\u001b[39;00m\u001b[38;5;250m \u001b[39mname\u001b[38;5;250m \u001b[39m\u001b[38;5;129;01min\u001b[39;00m\u001b[38;5;250m \u001b[39mparam_names)\u001b[38;5;132;01m}\u001b[39;00m\u001b[38;5;124m)\u001b[39m\u001b[38;5;124m\"\u001b[39m\n\u001b[0;32m     13\u001b[0m     )\n\u001b[1;32m---> 14\u001b[0m \u001b[38;5;28;01mreturn\u001b[39;00m func(\u001b[38;5;241m*\u001b[39margs, \u001b[38;5;241m*\u001b[39m\u001b[38;5;241m*\u001b[39mkwargs)\n",
      "File \u001b[1;32mc:\\Users\\Muhtasim\\Anaconda3\\envs\\medibot\\lib\\site-packages\\pinecone\\db_control\\resources\\sync\\index.py:80\u001b[0m, in \u001b[0;36mIndexResource.create\u001b[1;34m(self, name, spec, dimension, metric, timeout, deletion_protection, vector_type, tags)\u001b[0m\n\u001b[0;32m     58\u001b[0m \u001b[38;5;129m@require_kwargs\u001b[39m\n\u001b[0;32m     59\u001b[0m \u001b[38;5;28;01mdef\u001b[39;00m\u001b[38;5;250m \u001b[39m\u001b[38;5;21mcreate\u001b[39m(\n\u001b[0;32m     60\u001b[0m     \u001b[38;5;28mself\u001b[39m,\n\u001b[1;32m   (...)\u001b[0m\n\u001b[0;32m     69\u001b[0m     tags: Optional[Dict[\u001b[38;5;28mstr\u001b[39m, \u001b[38;5;28mstr\u001b[39m]] \u001b[38;5;241m=\u001b[39m \u001b[38;5;28;01mNone\u001b[39;00m,\n\u001b[0;32m     70\u001b[0m ) \u001b[38;5;241m-\u001b[39m\u001b[38;5;241m>\u001b[39m IndexModel:\n\u001b[0;32m     71\u001b[0m     req \u001b[38;5;241m=\u001b[39m PineconeDBControlRequestFactory\u001b[38;5;241m.\u001b[39mcreate_index_request(\n\u001b[0;32m     72\u001b[0m         name\u001b[38;5;241m=\u001b[39mname,\n\u001b[0;32m     73\u001b[0m         spec\u001b[38;5;241m=\u001b[39mspec,\n\u001b[1;32m   (...)\u001b[0m\n\u001b[0;32m     78\u001b[0m         tags\u001b[38;5;241m=\u001b[39mtags,\n\u001b[0;32m     79\u001b[0m     )\n\u001b[1;32m---> 80\u001b[0m     resp \u001b[38;5;241m=\u001b[39m \u001b[38;5;28;43mself\u001b[39;49m\u001b[38;5;241;43m.\u001b[39;49m\u001b[43m_index_api\u001b[49m\u001b[38;5;241;43m.\u001b[39;49m\u001b[43mcreate_index\u001b[49m\u001b[43m(\u001b[49m\u001b[43mcreate_index_request\u001b[49m\u001b[38;5;241;43m=\u001b[39;49m\u001b[43mreq\u001b[49m\u001b[43m)\u001b[49m\n\u001b[0;32m     82\u001b[0m     \u001b[38;5;28;01mif\u001b[39;00m timeout \u001b[38;5;241m==\u001b[39m \u001b[38;5;241m-\u001b[39m\u001b[38;5;241m1\u001b[39m:\n\u001b[0;32m     83\u001b[0m         \u001b[38;5;28;01mreturn\u001b[39;00m IndexModel(resp)\n",
      "File \u001b[1;32mc:\\Users\\Muhtasim\\Anaconda3\\envs\\medibot\\lib\\site-packages\\pinecone\\openapi_support\\endpoint.py:102\u001b[0m, in \u001b[0;36mEndpoint.__call__\u001b[1;34m(self, *args, **kwargs)\u001b[0m\n\u001b[0;32m     91\u001b[0m \u001b[38;5;28;01mdef\u001b[39;00m\u001b[38;5;250m \u001b[39m\u001b[38;5;21m__call__\u001b[39m(\u001b[38;5;28mself\u001b[39m, \u001b[38;5;241m*\u001b[39margs, \u001b[38;5;241m*\u001b[39m\u001b[38;5;241m*\u001b[39mkwargs):\n\u001b[0;32m     92\u001b[0m \u001b[38;5;250m    \u001b[39m\u001b[38;5;124;03m\"\"\"This method is invoked when endpoints are called\u001b[39;00m\n\u001b[0;32m     93\u001b[0m \u001b[38;5;124;03m    Example:\u001b[39;00m\n\u001b[0;32m     94\u001b[0m \n\u001b[1;32m   (...)\u001b[0m\n\u001b[0;32m    100\u001b[0m \n\u001b[0;32m    101\u001b[0m \u001b[38;5;124;03m    \"\"\"\u001b[39;00m\n\u001b[1;32m--> 102\u001b[0m     \u001b[38;5;28;01mreturn\u001b[39;00m \u001b[38;5;28mself\u001b[39m\u001b[38;5;241m.\u001b[39mcallable(\u001b[38;5;28mself\u001b[39m, \u001b[38;5;241m*\u001b[39margs, \u001b[38;5;241m*\u001b[39m\u001b[38;5;241m*\u001b[39mkwargs)\n",
      "File \u001b[1;32mc:\\Users\\Muhtasim\\Anaconda3\\envs\\medibot\\lib\\site-packages\\pinecone\\core\\openapi\\db_control\\api\\manage_indexes_api.py:322\u001b[0m, in \u001b[0;36mManageIndexesApi.__init__.<locals>.__create_index\u001b[1;34m(self, create_index_request, **kwargs)\u001b[0m\n\u001b[0;32m    320\u001b[0m kwargs \u001b[38;5;241m=\u001b[39m \u001b[38;5;28mself\u001b[39m\u001b[38;5;241m.\u001b[39m_process_openapi_kwargs(kwargs)\n\u001b[0;32m    321\u001b[0m kwargs[\u001b[38;5;124m\"\u001b[39m\u001b[38;5;124mcreate_index_request\u001b[39m\u001b[38;5;124m\"\u001b[39m] \u001b[38;5;241m=\u001b[39m create_index_request\n\u001b[1;32m--> 322\u001b[0m \u001b[38;5;28;01mreturn\u001b[39;00m \u001b[38;5;28mself\u001b[39m\u001b[38;5;241m.\u001b[39mcall_with_http_info(\u001b[38;5;241m*\u001b[39m\u001b[38;5;241m*\u001b[39mkwargs)\n",
      "File \u001b[1;32mc:\\Users\\Muhtasim\\Anaconda3\\envs\\medibot\\lib\\site-packages\\pinecone\\openapi_support\\endpoint.py:134\u001b[0m, in \u001b[0;36mEndpoint.call_with_http_info\u001b[1;34m(self, **kwargs)\u001b[0m\n\u001b[0;32m    124\u001b[0m params \u001b[38;5;241m=\u001b[39m EndpointUtils\u001b[38;5;241m.\u001b[39mgather_params(\n\u001b[0;32m    125\u001b[0m     attribute_map\u001b[38;5;241m=\u001b[39m\u001b[38;5;28mself\u001b[39m\u001b[38;5;241m.\u001b[39mattribute_map,\n\u001b[0;32m    126\u001b[0m     location_map\u001b[38;5;241m=\u001b[39m\u001b[38;5;28mself\u001b[39m\u001b[38;5;241m.\u001b[39mlocation_map,\n\u001b[1;32m   (...)\u001b[0m\n\u001b[0;32m    129\u001b[0m     kwargs\u001b[38;5;241m=\u001b[39mkwargs,\n\u001b[0;32m    130\u001b[0m )\n\u001b[0;32m    132\u001b[0m HeaderUtil\u001b[38;5;241m.\u001b[39mprepare_headers(headers_map\u001b[38;5;241m=\u001b[39m\u001b[38;5;28mself\u001b[39m\u001b[38;5;241m.\u001b[39mheaders_map, params\u001b[38;5;241m=\u001b[39mparams)\n\u001b[1;32m--> 134\u001b[0m \u001b[38;5;28;01mreturn\u001b[39;00m \u001b[38;5;28;43mself\u001b[39;49m\u001b[38;5;241;43m.\u001b[39;49m\u001b[43mapi_client\u001b[49m\u001b[38;5;241;43m.\u001b[39;49m\u001b[43mcall_api\u001b[49m\u001b[43m(\u001b[49m\n\u001b[0;32m    135\u001b[0m \u001b[43m    \u001b[49m\u001b[38;5;28;43mself\u001b[39;49m\u001b[38;5;241;43m.\u001b[39;49m\u001b[43msettings\u001b[49m\u001b[43m[\u001b[49m\u001b[38;5;124;43m\"\u001b[39;49m\u001b[38;5;124;43mendpoint_path\u001b[39;49m\u001b[38;5;124;43m\"\u001b[39;49m\u001b[43m]\u001b[49m\u001b[43m,\u001b[49m\n\u001b[0;32m    136\u001b[0m \u001b[43m    \u001b[49m\u001b[38;5;28;43mself\u001b[39;49m\u001b[38;5;241;43m.\u001b[39;49m\u001b[43msettings\u001b[49m\u001b[43m[\u001b[49m\u001b[38;5;124;43m\"\u001b[39;49m\u001b[38;5;124;43mhttp_method\u001b[39;49m\u001b[38;5;124;43m\"\u001b[39;49m\u001b[43m]\u001b[49m\u001b[43m,\u001b[49m\n\u001b[0;32m    137\u001b[0m \u001b[43m    \u001b[49m\u001b[43mpath_params\u001b[49m\u001b[38;5;241;43m=\u001b[39;49m\u001b[43mparams\u001b[49m\u001b[43m[\u001b[49m\u001b[38;5;124;43m\"\u001b[39;49m\u001b[38;5;124;43mpath\u001b[39;49m\u001b[38;5;124;43m\"\u001b[39;49m\u001b[43m]\u001b[49m\u001b[43m,\u001b[49m\n\u001b[0;32m    138\u001b[0m \u001b[43m    \u001b[49m\u001b[43mquery_params\u001b[49m\u001b[38;5;241;43m=\u001b[39;49m\u001b[43mparams\u001b[49m\u001b[43m[\u001b[49m\u001b[38;5;124;43m\"\u001b[39;49m\u001b[38;5;124;43mquery\u001b[39;49m\u001b[38;5;124;43m\"\u001b[39;49m\u001b[43m]\u001b[49m\u001b[43m,\u001b[49m\n\u001b[0;32m    139\u001b[0m \u001b[43m    \u001b[49m\u001b[43mheader_params\u001b[49m\u001b[38;5;241;43m=\u001b[39;49m\u001b[43mparams\u001b[49m\u001b[43m[\u001b[49m\u001b[38;5;124;43m\"\u001b[39;49m\u001b[38;5;124;43mheader\u001b[39;49m\u001b[38;5;124;43m\"\u001b[39;49m\u001b[43m]\u001b[49m\u001b[43m,\u001b[49m\n\u001b[0;32m    140\u001b[0m \u001b[43m    \u001b[49m\u001b[43mbody\u001b[49m\u001b[38;5;241;43m=\u001b[39;49m\u001b[43mparams\u001b[49m\u001b[43m[\u001b[49m\u001b[38;5;124;43m\"\u001b[39;49m\u001b[38;5;124;43mbody\u001b[39;49m\u001b[38;5;124;43m\"\u001b[39;49m\u001b[43m]\u001b[49m\u001b[43m,\u001b[49m\n\u001b[0;32m    141\u001b[0m \u001b[43m    \u001b[49m\u001b[43mpost_params\u001b[49m\u001b[38;5;241;43m=\u001b[39;49m\u001b[43mparams\u001b[49m\u001b[43m[\u001b[49m\u001b[38;5;124;43m\"\u001b[39;49m\u001b[38;5;124;43mform\u001b[39;49m\u001b[38;5;124;43m\"\u001b[39;49m\u001b[43m]\u001b[49m\u001b[43m,\u001b[49m\n\u001b[0;32m    142\u001b[0m \u001b[43m    \u001b[49m\u001b[43mfiles\u001b[49m\u001b[38;5;241;43m=\u001b[39;49m\u001b[43mparams\u001b[49m\u001b[43m[\u001b[49m\u001b[38;5;124;43m\"\u001b[39;49m\u001b[38;5;124;43mfile\u001b[39;49m\u001b[38;5;124;43m\"\u001b[39;49m\u001b[43m]\u001b[49m\u001b[43m,\u001b[49m\n\u001b[0;32m    143\u001b[0m \u001b[43m    \u001b[49m\u001b[43mresponse_type\u001b[49m\u001b[38;5;241;43m=\u001b[39;49m\u001b[38;5;28;43mself\u001b[39;49m\u001b[38;5;241;43m.\u001b[39;49m\u001b[43msettings\u001b[49m\u001b[43m[\u001b[49m\u001b[38;5;124;43m\"\u001b[39;49m\u001b[38;5;124;43mresponse_type\u001b[39;49m\u001b[38;5;124;43m\"\u001b[39;49m\u001b[43m]\u001b[49m\u001b[43m,\u001b[49m\n\u001b[0;32m    144\u001b[0m \u001b[43m    \u001b[49m\u001b[43mauth_settings\u001b[49m\u001b[38;5;241;43m=\u001b[39;49m\u001b[38;5;28;43mself\u001b[39;49m\u001b[38;5;241;43m.\u001b[39;49m\u001b[43msettings\u001b[49m\u001b[43m[\u001b[49m\u001b[38;5;124;43m\"\u001b[39;49m\u001b[38;5;124;43mauth\u001b[39;49m\u001b[38;5;124;43m\"\u001b[39;49m\u001b[43m]\u001b[49m\u001b[43m,\u001b[49m\n\u001b[0;32m    145\u001b[0m \u001b[43m    \u001b[49m\u001b[43masync_req\u001b[49m\u001b[38;5;241;43m=\u001b[39;49m\u001b[43mkwargs\u001b[49m\u001b[43m[\u001b[49m\u001b[38;5;124;43m\"\u001b[39;49m\u001b[38;5;124;43masync_req\u001b[39;49m\u001b[38;5;124;43m\"\u001b[39;49m\u001b[43m]\u001b[49m\u001b[43m,\u001b[49m\n\u001b[0;32m    146\u001b[0m \u001b[43m    \u001b[49m\u001b[43masync_threadpool_executor\u001b[49m\u001b[38;5;241;43m=\u001b[39;49m\u001b[43mkwargs\u001b[49m\u001b[38;5;241;43m.\u001b[39;49m\u001b[43mget\u001b[49m\u001b[43m(\u001b[49m\u001b[38;5;124;43m\"\u001b[39;49m\u001b[38;5;124;43masync_threadpool_executor\u001b[39;49m\u001b[38;5;124;43m\"\u001b[39;49m\u001b[43m,\u001b[49m\u001b[43m \u001b[49m\u001b[38;5;28;43;01mNone\u001b[39;49;00m\u001b[43m)\u001b[49m\u001b[43m,\u001b[49m\n\u001b[0;32m    147\u001b[0m \u001b[43m    \u001b[49m\u001b[43m_check_type\u001b[49m\u001b[38;5;241;43m=\u001b[39;49m\u001b[43mkwargs\u001b[49m\u001b[43m[\u001b[49m\u001b[38;5;124;43m\"\u001b[39;49m\u001b[38;5;124;43m_check_return_type\u001b[39;49m\u001b[38;5;124;43m\"\u001b[39;49m\u001b[43m]\u001b[49m\u001b[43m,\u001b[49m\n\u001b[0;32m    148\u001b[0m \u001b[43m    \u001b[49m\u001b[43m_return_http_data_only\u001b[49m\u001b[38;5;241;43m=\u001b[39;49m\u001b[43mkwargs\u001b[49m\u001b[43m[\u001b[49m\u001b[38;5;124;43m\"\u001b[39;49m\u001b[38;5;124;43m_return_http_data_only\u001b[39;49m\u001b[38;5;124;43m\"\u001b[39;49m\u001b[43m]\u001b[49m\u001b[43m,\u001b[49m\n\u001b[0;32m    149\u001b[0m \u001b[43m    \u001b[49m\u001b[43m_preload_content\u001b[49m\u001b[38;5;241;43m=\u001b[39;49m\u001b[43mkwargs\u001b[49m\u001b[43m[\u001b[49m\u001b[38;5;124;43m\"\u001b[39;49m\u001b[38;5;124;43m_preload_content\u001b[39;49m\u001b[38;5;124;43m\"\u001b[39;49m\u001b[43m]\u001b[49m\u001b[43m,\u001b[49m\n\u001b[0;32m    150\u001b[0m \u001b[43m    \u001b[49m\u001b[43m_request_timeout\u001b[49m\u001b[38;5;241;43m=\u001b[39;49m\u001b[43mkwargs\u001b[49m\u001b[43m[\u001b[49m\u001b[38;5;124;43m\"\u001b[39;49m\u001b[38;5;124;43m_request_timeout\u001b[39;49m\u001b[38;5;124;43m\"\u001b[39;49m\u001b[43m]\u001b[49m\u001b[43m,\u001b[49m\n\u001b[0;32m    151\u001b[0m \u001b[43m    \u001b[49m\u001b[43m_host\u001b[49m\u001b[38;5;241;43m=\u001b[39;49m\u001b[43m_host\u001b[49m\u001b[43m,\u001b[49m\n\u001b[0;32m    152\u001b[0m \u001b[43m    \u001b[49m\u001b[43mcollection_formats\u001b[49m\u001b[38;5;241;43m=\u001b[39;49m\u001b[43mparams\u001b[49m\u001b[43m[\u001b[49m\u001b[38;5;124;43m\"\u001b[39;49m\u001b[38;5;124;43mcollection_format\u001b[39;49m\u001b[38;5;124;43m\"\u001b[39;49m\u001b[43m]\u001b[49m\u001b[43m,\u001b[49m\n\u001b[0;32m    153\u001b[0m \u001b[43m\u001b[49m\u001b[43m)\u001b[49m\n",
      "File \u001b[1;32mc:\\Users\\Muhtasim\\Anaconda3\\envs\\medibot\\lib\\site-packages\\pinecone\\openapi_support\\api_client.py:306\u001b[0m, in \u001b[0;36mApiClient.call_api\u001b[1;34m(self, resource_path, method, path_params, query_params, header_params, body, post_params, files, response_type, auth_settings, async_req, async_threadpool_executor, _return_http_data_only, collection_formats, _preload_content, _request_timeout, _host, _check_type)\u001b[0m\n\u001b[0;32m    285\u001b[0m     \u001b[38;5;28;01mreturn\u001b[39;00m \u001b[38;5;28mself\u001b[39m\u001b[38;5;241m.\u001b[39mthreadpool_executor\u001b[38;5;241m.\u001b[39msubmit(\n\u001b[0;32m    286\u001b[0m         \u001b[38;5;28mself\u001b[39m\u001b[38;5;241m.\u001b[39m__call_api,\n\u001b[0;32m    287\u001b[0m         resource_path,\n\u001b[1;32m   (...)\u001b[0m\n\u001b[0;32m    302\u001b[0m         _check_type,\n\u001b[0;32m    303\u001b[0m     )\n\u001b[0;32m    305\u001b[0m \u001b[38;5;28;01mif\u001b[39;00m \u001b[38;5;129;01mnot\u001b[39;00m async_req:\n\u001b[1;32m--> 306\u001b[0m     \u001b[38;5;28;01mreturn\u001b[39;00m \u001b[38;5;28;43mself\u001b[39;49m\u001b[38;5;241;43m.\u001b[39;49m\u001b[43m__call_api\u001b[49m\u001b[43m(\u001b[49m\n\u001b[0;32m    307\u001b[0m \u001b[43m        \u001b[49m\u001b[43mresource_path\u001b[49m\u001b[43m,\u001b[49m\n\u001b[0;32m    308\u001b[0m \u001b[43m        \u001b[49m\u001b[43mmethod\u001b[49m\u001b[43m,\u001b[49m\n\u001b[0;32m    309\u001b[0m \u001b[43m        \u001b[49m\u001b[43mpath_params\u001b[49m\u001b[43m,\u001b[49m\n\u001b[0;32m    310\u001b[0m \u001b[43m        \u001b[49m\u001b[43mquery_params\u001b[49m\u001b[43m,\u001b[49m\n\u001b[0;32m    311\u001b[0m \u001b[43m        \u001b[49m\u001b[43mheader_params\u001b[49m\u001b[43m,\u001b[49m\n\u001b[0;32m    312\u001b[0m \u001b[43m        \u001b[49m\u001b[43mbody\u001b[49m\u001b[43m,\u001b[49m\n\u001b[0;32m    313\u001b[0m \u001b[43m        \u001b[49m\u001b[43mpost_params\u001b[49m\u001b[43m,\u001b[49m\n\u001b[0;32m    314\u001b[0m \u001b[43m        \u001b[49m\u001b[43mfiles\u001b[49m\u001b[43m,\u001b[49m\n\u001b[0;32m    315\u001b[0m \u001b[43m        \u001b[49m\u001b[43mresponse_type\u001b[49m\u001b[43m,\u001b[49m\n\u001b[0;32m    316\u001b[0m \u001b[43m        \u001b[49m\u001b[43mauth_settings\u001b[49m\u001b[43m,\u001b[49m\n\u001b[0;32m    317\u001b[0m \u001b[43m        \u001b[49m\u001b[43m_return_http_data_only\u001b[49m\u001b[43m,\u001b[49m\n\u001b[0;32m    318\u001b[0m \u001b[43m        \u001b[49m\u001b[43mcollection_formats\u001b[49m\u001b[43m,\u001b[49m\n\u001b[0;32m    319\u001b[0m \u001b[43m        \u001b[49m\u001b[43m_preload_content\u001b[49m\u001b[43m,\u001b[49m\n\u001b[0;32m    320\u001b[0m \u001b[43m        \u001b[49m\u001b[43m_request_timeout\u001b[49m\u001b[43m,\u001b[49m\n\u001b[0;32m    321\u001b[0m \u001b[43m        \u001b[49m\u001b[43m_host\u001b[49m\u001b[43m,\u001b[49m\n\u001b[0;32m    322\u001b[0m \u001b[43m        \u001b[49m\u001b[43m_check_type\u001b[49m\u001b[43m,\u001b[49m\n\u001b[0;32m    323\u001b[0m \u001b[43m    \u001b[49m\u001b[43m)\u001b[49m\n\u001b[0;32m    325\u001b[0m \u001b[38;5;28;01mreturn\u001b[39;00m \u001b[38;5;28mself\u001b[39m\u001b[38;5;241m.\u001b[39mpool\u001b[38;5;241m.\u001b[39mapply_async(\n\u001b[0;32m    326\u001b[0m     \u001b[38;5;28mself\u001b[39m\u001b[38;5;241m.\u001b[39m__call_api,\n\u001b[0;32m    327\u001b[0m     (\n\u001b[1;32m   (...)\u001b[0m\n\u001b[0;32m    344\u001b[0m     ),\n\u001b[0;32m    345\u001b[0m )\n",
      "File \u001b[1;32mc:\\Users\\Muhtasim\\Anaconda3\\envs\\medibot\\lib\\site-packages\\pinecone\\openapi_support\\api_client.py:182\u001b[0m, in \u001b[0;36mApiClient.__call_api\u001b[1;34m(self, resource_path, method, path_params, query_params, header_params, body, post_params, files, response_type, auth_settings, _return_http_data_only, collection_formats, _preload_content, _request_timeout, _host, _check_type)\u001b[0m\n\u001b[0;32m    180\u001b[0m \u001b[38;5;28;01mexcept\u001b[39;00m PineconeApiException \u001b[38;5;28;01mas\u001b[39;00m e:\n\u001b[0;32m    181\u001b[0m     e\u001b[38;5;241m.\u001b[39mbody \u001b[38;5;241m=\u001b[39m e\u001b[38;5;241m.\u001b[39mbody\u001b[38;5;241m.\u001b[39mdecode(\u001b[38;5;124m\"\u001b[39m\u001b[38;5;124mutf-8\u001b[39m\u001b[38;5;124m\"\u001b[39m)\n\u001b[1;32m--> 182\u001b[0m     \u001b[38;5;28;01mraise\u001b[39;00m e\n\u001b[0;32m    184\u001b[0m \u001b[38;5;28mself\u001b[39m\u001b[38;5;241m.\u001b[39mlast_response \u001b[38;5;241m=\u001b[39m response_data\n\u001b[0;32m    186\u001b[0m return_data \u001b[38;5;241m=\u001b[39m response_data\n",
      "File \u001b[1;32mc:\\Users\\Muhtasim\\Anaconda3\\envs\\medibot\\lib\\site-packages\\pinecone\\openapi_support\\api_client.py:170\u001b[0m, in \u001b[0;36mApiClient.__call_api\u001b[1;34m(self, resource_path, method, path_params, query_params, header_params, body, post_params, files, response_type, auth_settings, _return_http_data_only, collection_formats, _preload_content, _request_timeout, _host, _check_type)\u001b[0m\n\u001b[0;32m    161\u001b[0m url \u001b[38;5;241m=\u001b[39m build_request_url(\n\u001b[0;32m    162\u001b[0m     config\u001b[38;5;241m=\u001b[39mconfig,\n\u001b[0;32m    163\u001b[0m     processed_path_params\u001b[38;5;241m=\u001b[39mpath_params_tuple,\n\u001b[0;32m    164\u001b[0m     resource_path\u001b[38;5;241m=\u001b[39mresource_path,\n\u001b[0;32m    165\u001b[0m     _host\u001b[38;5;241m=\u001b[39m_host,\n\u001b[0;32m    166\u001b[0m )\n\u001b[0;32m    168\u001b[0m \u001b[38;5;28;01mtry\u001b[39;00m:\n\u001b[0;32m    169\u001b[0m     \u001b[38;5;66;03m# perform request and return response\u001b[39;00m\n\u001b[1;32m--> 170\u001b[0m     response_data \u001b[38;5;241m=\u001b[39m \u001b[38;5;28;43mself\u001b[39;49m\u001b[38;5;241;43m.\u001b[39;49m\u001b[43mrequest\u001b[49m\u001b[43m(\u001b[49m\n\u001b[0;32m    171\u001b[0m \u001b[43m        \u001b[49m\u001b[43mmethod\u001b[49m\u001b[43m,\u001b[49m\n\u001b[0;32m    172\u001b[0m \u001b[43m        \u001b[49m\u001b[43murl\u001b[49m\u001b[43m,\u001b[49m\n\u001b[0;32m    173\u001b[0m \u001b[43m        \u001b[49m\u001b[43mquery_params\u001b[49m\u001b[38;5;241;43m=\u001b[39;49m\u001b[43mprocessed_query_params\u001b[49m\u001b[43m,\u001b[49m\n\u001b[0;32m    174\u001b[0m \u001b[43m        \u001b[49m\u001b[43mheaders\u001b[49m\u001b[38;5;241;43m=\u001b[39;49m\u001b[43mheaders_tuple\u001b[49m\u001b[43m,\u001b[49m\n\u001b[0;32m    175\u001b[0m \u001b[43m        \u001b[49m\u001b[43mpost_params\u001b[49m\u001b[38;5;241;43m=\u001b[39;49m\u001b[43mprocessed_post_params\u001b[49m\u001b[43m,\u001b[49m\n\u001b[0;32m    176\u001b[0m \u001b[43m        \u001b[49m\u001b[43mbody\u001b[49m\u001b[38;5;241;43m=\u001b[39;49m\u001b[43mbody\u001b[49m\u001b[43m,\u001b[49m\n\u001b[0;32m    177\u001b[0m \u001b[43m        \u001b[49m\u001b[43m_preload_content\u001b[49m\u001b[38;5;241;43m=\u001b[39;49m\u001b[43m_preload_content\u001b[49m\u001b[43m,\u001b[49m\n\u001b[0;32m    178\u001b[0m \u001b[43m        \u001b[49m\u001b[43m_request_timeout\u001b[49m\u001b[38;5;241;43m=\u001b[39;49m\u001b[43m_request_timeout\u001b[49m\u001b[43m,\u001b[49m\n\u001b[0;32m    179\u001b[0m \u001b[43m    \u001b[49m\u001b[43m)\u001b[49m\n\u001b[0;32m    180\u001b[0m \u001b[38;5;28;01mexcept\u001b[39;00m PineconeApiException \u001b[38;5;28;01mas\u001b[39;00m e:\n\u001b[0;32m    181\u001b[0m     e\u001b[38;5;241m.\u001b[39mbody \u001b[38;5;241m=\u001b[39m e\u001b[38;5;241m.\u001b[39mbody\u001b[38;5;241m.\u001b[39mdecode(\u001b[38;5;124m\"\u001b[39m\u001b[38;5;124mutf-8\u001b[39m\u001b[38;5;124m\"\u001b[39m)\n",
      "File \u001b[1;32mc:\\Users\\Muhtasim\\Anaconda3\\envs\\medibot\\lib\\site-packages\\pinecone\\openapi_support\\api_client.py:386\u001b[0m, in \u001b[0;36mApiClient.request\u001b[1;34m(self, method, url, query_params, headers, post_params, body, _preload_content, _request_timeout)\u001b[0m\n\u001b[0;32m    376\u001b[0m     \u001b[38;5;28;01mreturn\u001b[39;00m \u001b[38;5;28mself\u001b[39m\u001b[38;5;241m.\u001b[39mrest_client\u001b[38;5;241m.\u001b[39mOPTIONS(\n\u001b[0;32m    377\u001b[0m         url,\n\u001b[0;32m    378\u001b[0m         query_params\u001b[38;5;241m=\u001b[39mquery_params,\n\u001b[1;32m   (...)\u001b[0m\n\u001b[0;32m    383\u001b[0m         body\u001b[38;5;241m=\u001b[39mbody,\n\u001b[0;32m    384\u001b[0m     )\n\u001b[0;32m    385\u001b[0m \u001b[38;5;28;01melif\u001b[39;00m method \u001b[38;5;241m==\u001b[39m \u001b[38;5;124m\"\u001b[39m\u001b[38;5;124mPOST\u001b[39m\u001b[38;5;124m\"\u001b[39m:\n\u001b[1;32m--> 386\u001b[0m     \u001b[38;5;28;01mreturn\u001b[39;00m \u001b[38;5;28;43mself\u001b[39;49m\u001b[38;5;241;43m.\u001b[39;49m\u001b[43mrest_client\u001b[49m\u001b[38;5;241;43m.\u001b[39;49m\u001b[43mPOST\u001b[49m\u001b[43m(\u001b[49m\n\u001b[0;32m    387\u001b[0m \u001b[43m        \u001b[49m\u001b[43murl\u001b[49m\u001b[43m,\u001b[49m\n\u001b[0;32m    388\u001b[0m \u001b[43m        \u001b[49m\u001b[43mquery_params\u001b[49m\u001b[38;5;241;43m=\u001b[39;49m\u001b[43mquery_params\u001b[49m\u001b[43m,\u001b[49m\n\u001b[0;32m    389\u001b[0m \u001b[43m        \u001b[49m\u001b[43mheaders\u001b[49m\u001b[38;5;241;43m=\u001b[39;49m\u001b[43mheaders\u001b[49m\u001b[43m,\u001b[49m\n\u001b[0;32m    390\u001b[0m \u001b[43m        \u001b[49m\u001b[43mpost_params\u001b[49m\u001b[38;5;241;43m=\u001b[39;49m\u001b[43mpost_params\u001b[49m\u001b[43m,\u001b[49m\n\u001b[0;32m    391\u001b[0m \u001b[43m        \u001b[49m\u001b[43m_preload_content\u001b[49m\u001b[38;5;241;43m=\u001b[39;49m\u001b[43m_preload_content\u001b[49m\u001b[43m,\u001b[49m\n\u001b[0;32m    392\u001b[0m \u001b[43m        \u001b[49m\u001b[43m_request_timeout\u001b[49m\u001b[38;5;241;43m=\u001b[39;49m\u001b[43m_request_timeout\u001b[49m\u001b[43m,\u001b[49m\n\u001b[0;32m    393\u001b[0m \u001b[43m        \u001b[49m\u001b[43mbody\u001b[49m\u001b[38;5;241;43m=\u001b[39;49m\u001b[43mbody\u001b[49m\u001b[43m,\u001b[49m\n\u001b[0;32m    394\u001b[0m \u001b[43m    \u001b[49m\u001b[43m)\u001b[49m\n\u001b[0;32m    395\u001b[0m \u001b[38;5;28;01melif\u001b[39;00m method \u001b[38;5;241m==\u001b[39m \u001b[38;5;124m\"\u001b[39m\u001b[38;5;124mPUT\u001b[39m\u001b[38;5;124m\"\u001b[39m:\n\u001b[0;32m    396\u001b[0m     \u001b[38;5;28;01mreturn\u001b[39;00m \u001b[38;5;28mself\u001b[39m\u001b[38;5;241m.\u001b[39mrest_client\u001b[38;5;241m.\u001b[39mPUT(\n\u001b[0;32m    397\u001b[0m         url,\n\u001b[0;32m    398\u001b[0m         query_params\u001b[38;5;241m=\u001b[39mquery_params,\n\u001b[1;32m   (...)\u001b[0m\n\u001b[0;32m    403\u001b[0m         body\u001b[38;5;241m=\u001b[39mbody,\n\u001b[0;32m    404\u001b[0m     )\n",
      "File \u001b[1;32mc:\\Users\\Muhtasim\\Anaconda3\\envs\\medibot\\lib\\site-packages\\pinecone\\openapi_support\\rest_utils.py:146\u001b[0m, in \u001b[0;36mRestClientInterface.POST\u001b[1;34m(self, url, headers, query_params, post_params, body, _preload_content, _request_timeout)\u001b[0m\n\u001b[0;32m    136\u001b[0m \u001b[38;5;28;01mdef\u001b[39;00m\u001b[38;5;250m \u001b[39m\u001b[38;5;21mPOST\u001b[39m(\n\u001b[0;32m    137\u001b[0m     \u001b[38;5;28mself\u001b[39m,\n\u001b[0;32m    138\u001b[0m     url,\n\u001b[1;32m   (...)\u001b[0m\n\u001b[0;32m    144\u001b[0m     _request_timeout\u001b[38;5;241m=\u001b[39m\u001b[38;5;28;01mNone\u001b[39;00m,\n\u001b[0;32m    145\u001b[0m ):\n\u001b[1;32m--> 146\u001b[0m     \u001b[38;5;28;01mreturn\u001b[39;00m \u001b[38;5;28;43mself\u001b[39;49m\u001b[38;5;241;43m.\u001b[39;49m\u001b[43mrequest\u001b[49m\u001b[43m(\u001b[49m\n\u001b[0;32m    147\u001b[0m \u001b[43m        \u001b[49m\u001b[38;5;124;43m\"\u001b[39;49m\u001b[38;5;124;43mPOST\u001b[39;49m\u001b[38;5;124;43m\"\u001b[39;49m\u001b[43m,\u001b[49m\n\u001b[0;32m    148\u001b[0m \u001b[43m        \u001b[49m\u001b[43murl\u001b[49m\u001b[43m,\u001b[49m\n\u001b[0;32m    149\u001b[0m \u001b[43m        \u001b[49m\u001b[43mheaders\u001b[49m\u001b[38;5;241;43m=\u001b[39;49m\u001b[43mheaders\u001b[49m\u001b[43m,\u001b[49m\n\u001b[0;32m    150\u001b[0m \u001b[43m        \u001b[49m\u001b[43mquery_params\u001b[49m\u001b[38;5;241;43m=\u001b[39;49m\u001b[43mquery_params\u001b[49m\u001b[43m,\u001b[49m\n\u001b[0;32m    151\u001b[0m \u001b[43m        \u001b[49m\u001b[43mpost_params\u001b[49m\u001b[38;5;241;43m=\u001b[39;49m\u001b[43mpost_params\u001b[49m\u001b[43m,\u001b[49m\n\u001b[0;32m    152\u001b[0m \u001b[43m        \u001b[49m\u001b[43m_preload_content\u001b[49m\u001b[38;5;241;43m=\u001b[39;49m\u001b[43m_preload_content\u001b[49m\u001b[43m,\u001b[49m\n\u001b[0;32m    153\u001b[0m \u001b[43m        \u001b[49m\u001b[43m_request_timeout\u001b[49m\u001b[38;5;241;43m=\u001b[39;49m\u001b[43m_request_timeout\u001b[49m\u001b[43m,\u001b[49m\n\u001b[0;32m    154\u001b[0m \u001b[43m        \u001b[49m\u001b[43mbody\u001b[49m\u001b[38;5;241;43m=\u001b[39;49m\u001b[43mbody\u001b[49m\u001b[43m,\u001b[49m\n\u001b[0;32m    155\u001b[0m \u001b[43m    \u001b[49m\u001b[43m)\u001b[49m\n",
      "File \u001b[1;32mc:\\Users\\Muhtasim\\Anaconda3\\envs\\medibot\\lib\\site-packages\\pinecone\\openapi_support\\rest_urllib3.py:267\u001b[0m, in \u001b[0;36mUrllib3RestClient.request\u001b[1;34m(self, method, url, query_params, headers, body, post_params, _preload_content, _request_timeout)\u001b[0m\n\u001b[0;32m    264\u001b[0m     \u001b[38;5;66;03m# log response body\u001b[39;00m\n\u001b[0;32m    265\u001b[0m     logger\u001b[38;5;241m.\u001b[39mdebug(\u001b[38;5;124m\"\u001b[39m\u001b[38;5;124mresponse body: \u001b[39m\u001b[38;5;132;01m%s\u001b[39;00m\u001b[38;5;124m\"\u001b[39m, r\u001b[38;5;241m.\u001b[39mdata)\n\u001b[1;32m--> 267\u001b[0m \u001b[38;5;28;01mreturn\u001b[39;00m \u001b[43mraise_exceptions_or_return\u001b[49m\u001b[43m(\u001b[49m\u001b[43mr\u001b[49m\u001b[43m)\u001b[49m\n",
      "File \u001b[1;32mc:\\Users\\Muhtasim\\Anaconda3\\envs\\medibot\\lib\\site-packages\\pinecone\\openapi_support\\rest_utils.py:49\u001b[0m, in \u001b[0;36mraise_exceptions_or_return\u001b[1;34m(r)\u001b[0m\n\u001b[0;32m     46\u001b[0m     \u001b[38;5;28;01mif\u001b[39;00m \u001b[38;5;241m500\u001b[39m \u001b[38;5;241m<\u001b[39m\u001b[38;5;241m=\u001b[39m r\u001b[38;5;241m.\u001b[39mstatus \u001b[38;5;241m<\u001b[39m\u001b[38;5;241m=\u001b[39m \u001b[38;5;241m599\u001b[39m:\n\u001b[0;32m     47\u001b[0m         \u001b[38;5;28;01mraise\u001b[39;00m ServiceException(http_resp\u001b[38;5;241m=\u001b[39mr)\n\u001b[1;32m---> 49\u001b[0m     \u001b[38;5;28;01mraise\u001b[39;00m PineconeApiException(http_resp\u001b[38;5;241m=\u001b[39mr)\n\u001b[0;32m     51\u001b[0m \u001b[38;5;28;01mreturn\u001b[39;00m r\n",
      "\u001b[1;31mPineconeApiException\u001b[0m: (409)\nReason: Conflict\nHTTP response headers: HTTPHeaderDict({'content-type': 'text/plain; charset=utf-8', 'access-control-allow-origin': '*', 'vary': 'origin,access-control-request-method,access-control-request-headers', 'access-control-expose-headers': '*', 'x-pinecone-api-version': '2025-04', 'x-cloud-trace-context': '01d3916f89015448a0f1f7840ea7a864', 'date': 'Fri, 06 Jun 2025 09:10:55 GMT', 'server': 'Google Frontend', 'Content-Length': '85', 'Via': '1.1 google', 'Alt-Svc': 'h3=\":443\"; ma=2592000,h3-29=\":443\"; ma=2592000'})\nHTTP response body: {\"error\":{\"code\":\"ALREADY_EXISTS\",\"message\":\"Resource  already exists\"},\"status\":409}\n"
     ]
    }
   ],
   "source": [
    "\n",
    "import os\n",
    "from pinecone import Pinecone, ServerlessSpec\n",
    "\n",
    "api_key = os.environ.get(\"PINECONE_API_KEY\")\n",
    "\n",
    "if not api_key:\n",
    "    raise ValueError(\"PINECONE_API_KEY not found in environment variables.\")\n",
    "pc = Pinecone(api_key=api_key)\n",
    "\n",
    "index_name = \"medichat\"\n",
    "\n",
    "if index_name not in pc.list_indexes():\n",
    "    pc.create_index(\n",
    "        name=index_name,\n",
    "        dimension=384,\n",
    "        metric=\"cosine\",\n",
    "        spec=ServerlessSpec(\n",
    "            cloud=\"aws\",\n",
    "            region=\"us-east-1\"  \n",
    "        )\n",
    "    )\n",
    "\n",
    "print(f\"Index '{index_name}' is ready!\")"
   ]
  },
  {
   "cell_type": "code",
   "execution_count": 120,
   "id": "74f4e762",
   "metadata": {},
   "outputs": [],
   "source": [
    "from langchain_pinecone import PineconeVectorStore\n",
    "\n",
    "docsearch = PineconeVectorStore.from_documents(\n",
    "    documents=texts_chunks,\n",
    "    index_name='medichat',\n",
    "    embedding=embeddings,\n",
    ")"
   ]
  },
  {
   "cell_type": "code",
   "execution_count": 121,
   "id": "267541c9",
   "metadata": {},
   "outputs": [],
   "source": [
    "from langchain_pinecone import PineconeVectorStore\n",
    "\n",
    "docsearch = PineconeVectorStore.from_existing_index(\n",
    "    index_name='medichat',\n",
    "    embedding=embeddings,\n",
    ")"
   ]
  },
  {
   "cell_type": "code",
   "execution_count": 122,
   "id": "6be15a3d",
   "metadata": {},
   "outputs": [
    {
     "data": {
      "text/plain": [
       "<langchain_pinecone.vectorstores.PineconeVectorStore at 0x21d924aaa10>"
      ]
     },
     "execution_count": 122,
     "metadata": {},
     "output_type": "execute_result"
    }
   ],
   "source": [
    "docsearch"
   ]
  },
  {
   "cell_type": "code",
   "execution_count": 123,
   "id": "ee80a9e0",
   "metadata": {},
   "outputs": [],
   "source": [
    "retriver = docsearch.as_retriever(search_type=\"similarity\", search_kwargs={\"k\": 3})"
   ]
  },
  {
   "cell_type": "code",
   "execution_count": 124,
   "id": "96f81046",
   "metadata": {},
   "outputs": [],
   "source": [
    "retrived_docs = retriver.invoke(\"What is the Napa?\")"
   ]
  },
  {
   "cell_type": "code",
   "execution_count": 125,
   "id": "9df7c931",
   "metadata": {},
   "outputs": [
    {
     "data": {
      "text/plain": [
       "[Document(id='d6f5e4e8-c56a-4e79-9ff8-31efedd60606', metadata={'creationdate': '', 'creator': 'PyPDF', 'page': 0.0, 'page_label': '1', 'producer': 'Skia/PDF m138 Google Docs Renderer', 'source': 'Data\\\\napa.pdf', 'title': 'Untitled document', 'total_pages': 9.0}, page_content=\"Napa  Tablet  \\n Pack  Image \\nParacetamol \\n500  mg  \\nBeximco  Pharmaceuticals  Ltd. \\nUnit  Price:  ৳  1.20  (51  x  10:  ৳  612.00)  \\nStrip  Price: ৳  12.00  \\nAlso  available  as:  \\n665  mg  (ER  Tablet) 500  mg  (Tablet) 1000  mg  (Tablet) \\nAlternate  Brands Innovator's  Monograph     বাংলায়  \\x00দ খ ু ন  \\nIndications  \\nNapa  is  indicated  for  fever,  common  cold  and  influenza,  headache,  toothache,  earache,  bodyache,  \\nmyalgia,\\n \\nneuralgia,\\n \\ndysmenorrhoea,\\n \\nsprains,\\n \\ncolic\\n \\npain,\"),\n",
       " Document(id='308e22bf-cb35-4a0d-887c-cc99f6e118c0', metadata={'creationdate': '', 'creator': 'PyPDF', 'page': 0.0, 'page_label': '1', 'producer': 'Skia/PDF m138 Google Docs Renderer', 'source': 'Data\\\\napa.pdf', 'title': 'Untitled document', 'total_pages': 9.0}, page_content=\"Napa  Tablet  \\n Pack  Image \\nParacetamol \\n500  mg  \\nBeximco  Pharmaceuticals  Ltd. \\nUnit  Price:  ৳  1.20  (51  x  10:  ৳  612.00)  \\nStrip  Price: ৳  12.00  \\nAlso  available  as:  \\n665  mg  (ER  Tablet) 500  mg  (Tablet) 1000  mg  (Tablet) \\nAlternate  Brands Innovator's  Monograph     বাংলায়  \\x00দ খ ু ন  \\nIndications  \\nNapa  is  indicated  for  fever,  common  cold  and  influenza,  headache,  toothache,  earache,  bodyache,  \\nmyalgia,\\n \\nneuralgia,\\n \\ndysmenorrhoea,\\n \\nsprains,\\n \\ncolic\\n \\npain,\"),\n",
       " Document(id='7292641a-7534-4afd-b1b9-c0680e17b9f1', metadata={'creationdate': '', 'creator': 'PyPDF', 'page': 0.0, 'page_label': '1', 'producer': 'Skia/PDF m138 Google Docs Renderer', 'source': 'Data\\\\napa.pdf', 'title': 'Untitled document', 'total_pages': 9.0}, page_content=\"Napa  Tablet  \\n Pack  Image \\nParacetamol \\n500  mg  \\nBeximco  Pharmaceuticals  Ltd. \\nUnit  Price:  ৳  1.20  (51  x  10:  ৳  612.00)  \\nStrip  Price: ৳  12.00  \\nAlso  available  as:  \\n665  mg  (ER  Tablet) 500  mg  (Tablet) 1000  mg  (Tablet) \\nAlternate  Brands Innovator's  Monograph     বাংলায়  \\x00দ খ ু ন  \\nIndications  \\nNapa  is  indicated  for  fever,  common  cold  and  influenza,  headache,  toothache,  earache,  bodyache,  \\nmyalgia,\\n \\nneuralgia,\\n \\ndysmenorrhoea,\\n \\nsprains,\\n \\ncolic\\n \\npain,\")]"
      ]
     },
     "execution_count": 125,
     "metadata": {},
     "output_type": "execute_result"
    }
   ],
   "source": [
    "retrived_docs"
   ]
  },
  {
   "cell_type": "code",
   "execution_count": 126,
   "id": "a1107772",
   "metadata": {},
   "outputs": [],
   "source": [
    "from langchain_google_genai import ChatGoogleGenerativeAI\n",
    "\n",
    "llm = ChatGoogleGenerativeAI(\n",
    "    model=\"gemini-1.5-flash\",                    \n",
    "    temperature=0,\n",
    "    max_output_tokens=500,\n",
    "    google_api_key=GEMINI_API_KEY \n",
    ")"
   ]
  },
  {
   "cell_type": "code",
   "execution_count": 127,
   "id": "e4bce56d",
   "metadata": {},
   "outputs": [],
   "source": [
    "from langchain.chains import create_retrieval_chain\n",
    "from langchain.chains.combine_documents import create_stuff_documents_chain\n",
    "from langchain_core.prompts import ChatPromptTemplate\n",
    "\n",
    "system_prompt = (\n",
    "    \"You are a helpful medical assistant. \"\n",
    "    \"You will be provided with a question and some context from medical documents. \"\n",
    "    \"Use the context to answer the question as accurately as possible.\"\n",
    "    \"{context}\\n\"\n",
    ")\n",
    "\n",
    "prompt = ChatPromptTemplate.from_messages(\n",
    "    [\n",
    "        (\"system\", system_prompt),\n",
    "        (\"human\", \"{input}\"),\n",
    "    ]\n",
    ")\n"
   ]
  },
  {
   "cell_type": "code",
   "execution_count": 128,
   "id": "04a19ab9",
   "metadata": {},
   "outputs": [],
   "source": [
    "from langchain.chains.combine_documents import create_stuff_documents_chain\n",
    "from langchain.chains import create_retrieval_chain\n",
    "\n",
    "\n",
    "question_answer_chain = create_stuff_documents_chain(\n",
    "    llm=llm,\n",
    "    prompt=prompt,\n",
    ")\n",
    "\n",
    "rag_chain = create_retrieval_chain(\n",
    "    retriever=retriver,\n",
    "    combine_docs_chain=question_answer_chain,\n",
    ")\n"
   ]
  },
  {
   "cell_type": "code",
   "execution_count": 129,
   "id": "3c48bd04",
   "metadata": {},
   "outputs": [
    {
     "name": "stdout",
     "output_type": "stream",
     "text": [
      "Testing API Key...\n",
      "API Key length: 39\n",
      "API Key starts with 'AIza': True\n",
      "\n",
      "=== Testing with google.generativeai ===\n",
      "Successfully connected! Found 58 models\n",
      "Test response: Hello, world!\n",
      "...\n",
      "\n",
      "=== Testing with LangChain ===\n",
      "LangChain test successful: Hello!...\n",
      "\n",
      "=== Debugging Info ===\n",
      "Environment GOOGLE_API_KEY set: True\n",
      "Environment key length: 39\n",
      "Environment key starts with 'AIza': True\n"
     ]
    }
   ],
   "source": [
    "\n",
    "import os\n",
    "import google.generativeai as genai\n",
    "from langchain_google_genai import ChatGoogleGenerativeAI\n",
    "\n",
    "API_KEY = GEMINI_API_KEY\n",
    "\n",
    "print(\"Testing API Key...\")\n",
    "print(f\"API Key length: {len(API_KEY)}\")\n",
    "print(f\"API Key starts with 'AIza': {API_KEY.startswith('AIza')}\")\n",
    "try:\n",
    "    genai.configure(api_key=API_KEY)\n",
    "    print(\"\\n=== Testing with google.generativeai ===\")\n",
    "    models = list(genai.list_models())\n",
    "    print(f\"Successfully connected! Found {len(models)} models\")\n",
    "    model = genai.GenerativeModel('gemini-1.5-flash')\n",
    "    response = model.generate_content(\"Hello, world!\")\n",
    "    print(f\"Test response: {response.text[:50]}...\")\n",
    "    \n",
    "except Exception as e:\n",
    "    print(f\"Direct API test failed: {e}\")\n",
    "try:\n",
    "    print(\"\\n=== Testing with LangChain ===\")\n",
    "    \n",
    "\n",
    "    os.environ[\"GOOGLE_API_KEY\"] = API_KEY\n",
    "    \n",
    "    llm = ChatGoogleGenerativeAI(\n",
    "        model=\"gemini-1.5-flash\",\n",
    "        temperature=0\n",
    "    )\n",
    "    \n",
    "    response = llm.invoke(\"Say hello\")\n",
    "    print(f\"LangChain test successful: {response.content[:50]}...\")\n",
    "    \n",
    "except Exception as e:\n",
    "    print(f\"LangChain test failed: {e}\")\n",
    "    \n",
    "    try:\n",
    "        print(\"Trying direct API key parameter...\")\n",
    "        llm = ChatGoogleGenerativeAI(\n",
    "            model=\"gemini-1.5-flash\",\n",
    "            temperature=0,\n",
    "            google_api_key=API_KEY\n",
    "        )\n",
    "        \n",
    "        response = llm.invoke(\"Say hello\")\n",
    "        print(f\"Direct API key test successful: {response.content[:50]}...\")\n",
    "        \n",
    "    except Exception as e2:\n",
    "        print(f\"Direct API key test also failed: {e2}\")\n",
    "\n",
    "print(\"\\n=== Debugging Info ===\")\n",
    "print(f\"Environment GOOGLE_API_KEY set: {'GOOGLE_API_KEY' in os.environ}\")\n",
    "if 'GOOGLE_API_KEY' in os.environ:\n",
    "    env_key = os.environ['GOOGLE_API_KEY']\n",
    "    print(f\"Environment key length: {len(env_key)}\")\n",
    "    print(f\"Environment key starts with 'AIza': {env_key.startswith('AIza')}\")"
   ]
  },
  {
   "cell_type": "code",
   "execution_count": 130,
   "id": "745115e3",
   "metadata": {},
   "outputs": [
    {
     "name": "stdout",
     "output_type": "stream",
     "text": [
      "LangChain test successful: Hello!\n"
     ]
    }
   ],
   "source": [
    "from langchain_google_genai import ChatGoogleGenerativeAI\n",
    "\n",
    "llm = ChatGoogleGenerativeAI(\n",
    "    model=\"gemini-1.5-flash\",\n",
    "    temperature=0,\n",
    "    google_api_key=API_KEY  \n",
    ")\n",
    "\n",
    "response = llm.invoke(\"Say hello\")\n",
    "print(f\"LangChain test successful: {response.content}\")\n"
   ]
  },
  {
   "cell_type": "code",
   "execution_count": 132,
   "id": "93d7a46d",
   "metadata": {},
   "outputs": [
    {
     "name": "stdout",
     "output_type": "stream",
     "text": [
      "the side effects of Napa are usually mild.  However,  hematological reactions including thrombocytopenia, leucopenia, pancytopenia, neutropenia, and agranulocytosis have been reported.  Pancreatitis, skin rashes, and other allergic reactions also occur occasionally.\n"
     ]
    }
   ],
   "source": [
    "import time\n",
    "\n",
    "\n",
    "time.sleep(1)  \n",
    "response = rag_chain.invoke({\"input\": \"side effect of Napa\"})\n",
    "\n",
    "response_text = response['answer']\n",
    "\n",
    "\n",
    "prefix = \"Based on the provided text, \"\n",
    "if response_text.startswith(prefix):\n",
    "    response_text = response_text[len(prefix):]\n",
    "\n",
    "print(response_text)\n"
   ]
  }
 ],
 "metadata": {
  "kernelspec": {
   "display_name": "medibot",
   "language": "python",
   "name": "python3"
  },
  "language_info": {
   "codemirror_mode": {
    "name": "ipython",
    "version": 3
   },
   "file_extension": ".py",
   "mimetype": "text/x-python",
   "name": "python",
   "nbconvert_exporter": "python",
   "pygments_lexer": "ipython3",
   "version": "3.10.18"
  }
 },
 "nbformat": 4,
 "nbformat_minor": 5
}

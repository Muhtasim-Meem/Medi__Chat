{
 "cells": [
  {
   "cell_type": "code",
   "execution_count": 63,
   "id": "e783fbc9",
   "metadata": {},
   "outputs": [
    {
     "name": "stdout",
     "output_type": "stream",
     "text": [
      "Hello\n"
     ]
    }
   ],
   "source": [
    "print(\"Hello\")"
   ]
  },
  {
   "cell_type": "code",
   "execution_count": 70,
   "id": "7cae40d0",
   "metadata": {},
   "outputs": [],
   "source": [
    "import os\n",
    "os.chdir(r\"D:\\AI\\Medi__Chat\")"
   ]
  },
  {
   "cell_type": "code",
   "execution_count": 71,
   "id": "dac7f5eb",
   "metadata": {},
   "outputs": [
    {
     "data": {
      "text/plain": [
       "'D:\\\\AI\\\\Medi__Chat'"
      ]
     },
     "execution_count": 71,
     "metadata": {},
     "output_type": "execute_result"
    }
   ],
   "source": [
    "%pwd"
   ]
  },
  {
   "cell_type": "code",
   "execution_count": 72,
   "id": "26a8337b",
   "metadata": {},
   "outputs": [],
   "source": [
    "from langchain.document_loaders import PyPDFLoader,DirectoryLoader\n",
    "from langchain.text_splitter import RecursiveCharacterTextSplitter"
   ]
  },
  {
   "cell_type": "code",
   "execution_count": 73,
   "id": "213e8248",
   "metadata": {},
   "outputs": [],
   "source": [
    "def load_pdf(data):\n",
    "    loader = DirectoryLoader(data, glob=\"**/*.pdf\",loader_cls=PyPDFLoader)\n",
    "    documents = loader.load()\n",
    "    return documents"
   ]
  },
  {
   "cell_type": "code",
   "execution_count": 74,
   "id": "0792afe4",
   "metadata": {},
   "outputs": [],
   "source": [
    "extracted_data = load_pdf(data ='Data/')"
   ]
  },
  {
   "cell_type": "code",
   "execution_count": null,
   "id": "46fbbc53",
   "metadata": {},
   "outputs": [],
   "source": [
    "extracted_data"
   ]
  },
  {
   "cell_type": "code",
   "execution_count": 75,
   "id": "194e4a72",
   "metadata": {},
   "outputs": [],
   "source": [
    "def text_split(extracted_data):\n",
    "    text_splitter = RecursiveCharacterTextSplitter(chunk_size=500, chunk_overlap=20)\n",
    "    texts_chunks = text_splitter.split_documents(extracted_data)\n",
    "    return texts_chunks"
   ]
  },
  {
   "cell_type": "code",
   "execution_count": 76,
   "id": "5db63f3c",
   "metadata": {},
   "outputs": [
    {
     "name": "stdout",
     "output_type": "stream",
     "text": [
      "Total number of chunks: 41\n"
     ]
    }
   ],
   "source": [
    "texts_chunks = text_split(extracted_data)\n",
    "print(f\"Total number of chunks: {len(texts_chunks)}\")"
   ]
  },
  {
   "cell_type": "code",
   "execution_count": 77,
   "id": "6d6dc3a9",
   "metadata": {},
   "outputs": [],
   "source": [
    "from langchain.embeddings import HuggingFaceEmbeddings"
   ]
  },
  {
   "cell_type": "code",
   "execution_count": 78,
   "id": "75cbad4a",
   "metadata": {},
   "outputs": [],
   "source": [
    "def download_huggingface_embeddings():\n",
    "    embeddings = HuggingFaceEmbeddings(model_name=\"sentence-transformers/all-MiniLM-L6-v2\")\n",
    "    return embeddings"
   ]
  },
  {
   "cell_type": "code",
   "execution_count": 80,
   "id": "8f3542eb",
   "metadata": {},
   "outputs": [],
   "source": [
    "embeddings= download_huggingface_embeddings()"
   ]
  },
  {
   "cell_type": "code",
   "execution_count": 81,
   "id": "099ced9a",
   "metadata": {},
   "outputs": [
    {
     "name": "stdout",
     "output_type": "stream",
     "text": [
      "Query result: 384\n"
     ]
    }
   ],
   "source": [
    "query_result = embeddings.embed_query(\"What is the capital of France?\")\n",
    "print(\"Query result:\" ,len(query_result)) "
   ]
  },
  {
   "cell_type": "code",
   "execution_count": null,
   "id": "9eae8315",
   "metadata": {},
   "outputs": [],
   "source": [
    "query_result\n"
   ]
  },
  {
   "cell_type": "code",
   "execution_count": 83,
   "id": "40e3bff3",
   "metadata": {},
   "outputs": [
    {
     "data": {
      "text/plain": [
       "True"
      ]
     },
     "execution_count": 83,
     "metadata": {},
     "output_type": "execute_result"
    }
   ],
   "source": [
    "from dotenv import load_dotenv\n",
    "load_dotenv()"
   ]
  },
  {
   "cell_type": "code",
   "execution_count": 84,
   "id": "daa124f8",
   "metadata": {},
   "outputs": [],
   "source": [
    "import os\n",
    "PINECONE_API_KEY = os.environ.get(\"PINECONE_API_KEY\")\n",
    "GEMINI_API_KEY = os.environ.get(\"GEMINI_API_KEY\")\n"
   ]
  },
  {
   "cell_type": "code",
   "execution_count": 85,
   "id": "8c4fe1cb",
   "metadata": {},
   "outputs": [],
   "source": [
    "import os\n",
    "os.environ[\"PINECONE_API_KEY\"] = PINECONE_API_KEY\n",
    "os.environ[\"GEMINI_API_KEY\"] = GEMINI_API_KEY"
   ]
  },
  {
   "cell_type": "code",
   "execution_count": null,
   "id": "d2b55f52",
   "metadata": {},
   "outputs": [],
   "source": [
    "\n",
    "import os\n",
    "from pinecone import Pinecone, ServerlessSpec\n",
    "\n",
    "api_key = os.environ.get(\"PINECONE_API_KEY\")\n",
    "\n",
    "if not api_key:\n",
    "    raise ValueError(\"PINECONE_API_KEY not found in environment variables.\")\n",
    "pc = Pinecone(api_key=api_key)\n",
    "\n",
    "index_name = \"medichat\"\n",
    "\n",
    "if index_name not in pc.list_indexes():\n",
    "    pc.create_index(\n",
    "        name=index_name,\n",
    "        dimension=384,\n",
    "        metric=\"cosine\",\n",
    "        spec=ServerlessSpec(\n",
    "            cloud=\"aws\",\n",
    "            region=\"us-east-1\"  \n",
    "        )\n",
    "    )\n",
    "\n",
    "print(f\"Index '{index_name}' is ready!\")"
   ]
  },
  {
   "cell_type": "code",
   "execution_count": 87,
   "id": "74f4e762",
   "metadata": {},
   "outputs": [],
   "source": [
    "from langchain_pinecone import PineconeVectorStore\n",
    "\n",
    "docsearch = PineconeVectorStore.from_documents(\n",
    "    documents=texts_chunks,\n",
    "    index_name='medichat',\n",
    "    embedding=embeddings,\n",
    ")"
   ]
  },
  {
   "cell_type": "code",
   "execution_count": 88,
   "id": "267541c9",
   "metadata": {},
   "outputs": [],
   "source": [
    "from langchain_pinecone import PineconeVectorStore\n",
    "\n",
    "docsearch = PineconeVectorStore.from_existing_index(\n",
    "    index_name='medichat',\n",
    "    embedding=embeddings,\n",
    ")"
   ]
  },
  {
   "cell_type": "code",
   "execution_count": 89,
   "id": "6be15a3d",
   "metadata": {},
   "outputs": [
    {
     "data": {
      "text/plain": [
       "<langchain_pinecone.vectorstores.PineconeVectorStore at 0x21d8777a170>"
      ]
     },
     "execution_count": 89,
     "metadata": {},
     "output_type": "execute_result"
    }
   ],
   "source": [
    "docsearch"
   ]
  },
  {
   "cell_type": "code",
   "execution_count": 90,
   "id": "ee80a9e0",
   "metadata": {},
   "outputs": [],
   "source": [
    "retriver = docsearch.as_retriever(search_type=\"similarity\", search_kwargs={\"k\": 3})"
   ]
  },
  {
   "cell_type": "code",
   "execution_count": 91,
   "id": "96f81046",
   "metadata": {},
   "outputs": [],
   "source": [
    "retrived_docs = retriver.invoke(\"What is the Napa?\")"
   ]
  },
  {
   "cell_type": "code",
   "execution_count": 23,
   "id": "9df7c931",
   "metadata": {},
   "outputs": [
    {
     "data": {
      "text/plain": [
       "[Document(id='308e22bf-cb35-4a0d-887c-cc99f6e118c0', metadata={'creationdate': '', 'creator': 'PyPDF', 'page': 0.0, 'page_label': '1', 'producer': 'Skia/PDF m138 Google Docs Renderer', 'source': 'Data\\\\napa.pdf', 'title': 'Untitled document', 'total_pages': 9.0}, page_content=\"Napa  Tablet  \\n Pack  Image \\nParacetamol \\n500  mg  \\nBeximco  Pharmaceuticals  Ltd. \\nUnit  Price:  ৳  1.20  (51  x  10:  ৳  612.00)  \\nStrip  Price: ৳  12.00  \\nAlso  available  as:  \\n665  mg  (ER  Tablet) 500  mg  (Tablet) 1000  mg  (Tablet) \\nAlternate  Brands Innovator's  Monograph     বাংলায়  \\x00দ খ ু ন  \\nIndications  \\nNapa  is  indicated  for  fever,  common  cold  and  influenza,  headache,  toothache,  earache,  bodyache,  \\nmyalgia,\\n \\nneuralgia,\\n \\ndysmenorrhoea,\\n \\nsprains,\\n \\ncolic\\n \\npain,\"),\n",
       " Document(id='d4462d89-8573-4180-89d6-ffb545970cdc', metadata={'creationdate': '', 'creator': 'PyPDF', 'page': 0.0, 'page_label': '1', 'producer': 'Skia/PDF m138 Google Docs Renderer', 'source': 'Data\\\\napa.pdf', 'title': 'Untitled document', 'total_pages': 9.0}, page_content=\"Napa  Tablet  \\n Pack  Image \\nParacetamol \\n500  mg  \\nBeximco  Pharmaceuticals  Ltd. \\nUnit  Price:  ৳  1.20  (51  x  10:  ৳  612.00)  \\nStrip  Price: ৳  12.00  \\nAlso  available  as:  \\n665  mg  (ER  Tablet) 500  mg  (Tablet) 1000  mg  (Tablet) \\nAlternate  Brands Innovator's  Monograph     বাংলায়  \\x00দ খ ু ন  \\nIndications  \\nNapa  is  indicated  for  fever,  common  cold  and  influenza,  headache,  toothache,  earache,  bodyache,  \\nmyalgia,\\n \\nneuralgia,\\n \\ndysmenorrhoea,\\n \\nsprains,\\n \\ncolic\\n \\npain,\"),\n",
       " Document(id='fbfb5e98-8e54-4574-aa73-e9df9f86e595', metadata={'creationdate': '', 'creator': 'PyPDF', 'page': 3.0, 'page_label': '4', 'producer': 'Skia/PDF m138 Google Docs Renderer', 'source': 'Data\\\\napa.pdf', 'title': 'Untitled document', 'total_pages': 9.0}, page_content='Care  is  advised  in  the  administration  of  Napa  to  patients  with  severe  renal  or  severe  hepatic  \\nimpairment.\\n \\nThe\\n \\nhazard\\n \\nof\\n \\noverdose\\n \\nis\\n \\ngreater\\n \\nin\\n \\nthose\\n \\nwith\\n \\nnon-cirrhotic\\n \\nalcoholic\\n \\nliver\\n \\ndisease.\\n \\nDo\\n \\nnot\\n \\nexceed\\n \\nthe\\n \\nstated\\n \\ndose.\\n \\nPatients\\n \\nshould\\n \\nbe\\n \\nadvised\\n \\nnot\\n \\nto\\n \\ntake\\n \\nother\\n \\nNapa-containing\\n \\nproducts\\n \\nconcurrently.\\n \\nNapa\\n \\nshould\\n \\nonly\\n \\nbe\\n \\nused\\n \\nby\\n \\nthe\\n \\npatient\\n \\nfor\\n \\nwhom\\n \\nit\\n \\nis\\n \\nprescribed\\n \\nwhen\\n \\nclearly')]"
      ]
     },
     "execution_count": 23,
     "metadata": {},
     "output_type": "execute_result"
    }
   ],
   "source": [
    "retrived_docs"
   ]
  },
  {
   "cell_type": "code",
   "execution_count": null,
   "id": "a1107772",
   "metadata": {},
   "outputs": [],
   "source": [
    "from langchain_google_genai import ChatGoogleGenerativeAI\n",
    "\n",
    "llm = ChatGoogleGenerativeAI(\n",
    "    model=\"gemini-1.5-flash\",                    \n",
    "    temperature=0,\n",
    "    max_output_tokens=500,\n",
    "    google_api_key=GEMINI_API_KEY \n",
    ")"
   ]
  },
  {
   "cell_type": "code",
   "execution_count": 93,
   "id": "e4bce56d",
   "metadata": {},
   "outputs": [],
   "source": [
    "from langchain.chains import create_retrieval_chain\n",
    "from langchain.chains.combine_documents import create_stuff_documents_chain\n",
    "from langchain_core.prompts import ChatPromptTemplate\n",
    "\n",
    "system_prompt = (\n",
    "    \"You are a helpful medical assistant. \"\n",
    "    \"You will be provided with a question and some context from medical documents. \"\n",
    "    \"Use the context to answer the question as accurately as possible.\"\n",
    "    \"{context}\\n\"\n",
    ")\n",
    "\n",
    "prompt = ChatPromptTemplate.from_messages(\n",
    "    [\n",
    "        (\"system\", system_prompt),\n",
    "        (\"human\", \"{input}\"),\n",
    "    ]\n",
    ")\n"
   ]
  },
  {
   "cell_type": "code",
   "execution_count": 94,
   "id": "04a19ab9",
   "metadata": {},
   "outputs": [],
   "source": [
    "from langchain.chains.combine_documents import create_stuff_documents_chain\n",
    "from langchain.chains import create_retrieval_chain\n",
    "\n",
    "\n",
    "question_answer_chain = create_stuff_documents_chain(\n",
    "    llm=llm,\n",
    "    prompt=prompt,\n",
    ")\n",
    "\n",
    "rag_chain = create_retrieval_chain(\n",
    "    retriever=retriver,\n",
    "    combine_docs_chain=question_answer_chain,\n",
    ")\n"
   ]
  },
  {
   "cell_type": "code",
   "execution_count": 95,
   "id": "3c48bd04",
   "metadata": {},
   "outputs": [
    {
     "name": "stdout",
     "output_type": "stream",
     "text": [
      "Testing API Key...\n",
      "API Key length: 39\n",
      "API Key starts with 'AIza': True\n",
      "\n",
      "=== Testing with google.generativeai ===\n",
      "Successfully connected! Found 58 models\n",
      "Test response: Hello, world!  (back at you!)\n",
      "...\n",
      "\n",
      "=== Testing with LangChain ===\n",
      "LangChain test successful: Hello!...\n",
      "\n",
      "=== Debugging Info ===\n",
      "Environment GOOGLE_API_KEY set: True\n",
      "Environment key length: 39\n",
      "Environment key starts with 'AIza': True\n"
     ]
    }
   ],
   "source": [
    "\n",
    "import os\n",
    "import google.generativeai as genai\n",
    "from langchain_google_genai import ChatGoogleGenerativeAI\n",
    "\n",
    "API_KEY = GEMINI_API_KEY\n",
    "\n",
    "print(\"Testing API Key...\")\n",
    "print(f\"API Key length: {len(API_KEY)}\")\n",
    "print(f\"API Key starts with 'AIza': {API_KEY.startswith('AIza')}\")\n",
    "try:\n",
    "    genai.configure(api_key=API_KEY)\n",
    "    print(\"\\n=== Testing with google.generativeai ===\")\n",
    "    models = list(genai.list_models())\n",
    "    print(f\"Successfully connected! Found {len(models)} models\")\n",
    "    model = genai.GenerativeModel('gemini-1.5-flash')\n",
    "    response = model.generate_content(\"Hello, world!\")\n",
    "    print(f\"Test response: {response.text[:50]}...\")\n",
    "    \n",
    "except Exception as e:\n",
    "    print(f\"Direct API test failed: {e}\")\n",
    "try:\n",
    "    print(\"\\n=== Testing with LangChain ===\")\n",
    "    \n",
    "\n",
    "    os.environ[\"GOOGLE_API_KEY\"] = API_KEY\n",
    "    \n",
    "    llm = ChatGoogleGenerativeAI(\n",
    "        model=\"gemini-1.5-flash\",\n",
    "        temperature=0\n",
    "    )\n",
    "    \n",
    "    response = llm.invoke(\"Say hello\")\n",
    "    print(f\"LangChain test successful: {response.content[:50]}...\")\n",
    "    \n",
    "except Exception as e:\n",
    "    print(f\"LangChain test failed: {e}\")\n",
    "    \n",
    "    try:\n",
    "        print(\"Trying direct API key parameter...\")\n",
    "        llm = ChatGoogleGenerativeAI(\n",
    "            model=\"gemini-1.5-flash\",\n",
    "            temperature=0,\n",
    "            google_api_key=API_KEY\n",
    "        )\n",
    "        \n",
    "        response = llm.invoke(\"Say hello\")\n",
    "        print(f\"Direct API key test successful: {response.content[:50]}...\")\n",
    "        \n",
    "    except Exception as e2:\n",
    "        print(f\"Direct API key test also failed: {e2}\")\n",
    "\n",
    "print(\"\\n=== Debugging Info ===\")\n",
    "print(f\"Environment GOOGLE_API_KEY set: {'GOOGLE_API_KEY' in os.environ}\")\n",
    "if 'GOOGLE_API_KEY' in os.environ:\n",
    "    env_key = os.environ['GOOGLE_API_KEY']\n",
    "    print(f\"Environment key length: {len(env_key)}\")\n",
    "    print(f\"Environment key starts with 'AIza': {env_key.startswith('AIza')}\")"
   ]
  },
  {
   "cell_type": "code",
   "execution_count": null,
   "id": "745115e3",
   "metadata": {},
   "outputs": [
    {
     "name": "stdout",
     "output_type": "stream",
     "text": [
      "LangChain test successful: Hello!\n"
     ]
    }
   ],
   "source": [
    "from langchain_google_genai import ChatGoogleGenerativeAI\n",
    "\n",
    "llm = ChatGoogleGenerativeAI(\n",
    "    model=\"gemini-1.5-flash\",\n",
    "    temperature=0,\n",
    "    google_api_key=API_KEY  \n",
    ")\n",
    "\n",
    "response = llm.invoke(\"Say hello\")\n",
    "print(f\"LangChain test successful: {response.content}\")\n"
   ]
  },
  {
   "cell_type": "code",
   "execution_count": null,
   "id": "93d7a46d",
   "metadata": {},
   "outputs": [
    {
     "name": "stdout",
     "output_type": "stream",
     "text": [
      "Napa is a brand of paracetamol tablets manufactured by Beximco Pharmaceuticals Ltd.  It's available in 500mg, 665mg (extended release), and 1000mg strengths.  The 500mg tablets are priced at ৳1.20 per unit, or ৳12.00 per strip of ten.  Napa is indicated for the treatment of fever, common cold and influenza, headache, toothache, earache, bodyache, myalgia, neuralgia, dysmenorrhea, sprains, and colic pain.\n"
     ]
    }
   ],
   "source": [
    "import time\n",
    "\n",
    "\n",
    "time.sleep(1)  \n",
    "response = rag_chain.invoke({\"input\": \"Napa\"})\n",
    "\n",
    "response_text = response['answer']\n",
    "\n",
    "\n",
    "prefix = \"Based on the provided text, \"\n",
    "if response_text.startswith(prefix):\n",
    "    response_text = response_text[len(prefix):]\n",
    "\n",
    "print(response_text)\n"
   ]
  }
 ],
 "metadata": {
  "kernelspec": {
   "display_name": "medibot",
   "language": "python",
   "name": "python3"
  },
  "language_info": {
   "codemirror_mode": {
    "name": "ipython",
    "version": 3
   },
   "file_extension": ".py",
   "mimetype": "text/x-python",
   "name": "python",
   "nbconvert_exporter": "python",
   "pygments_lexer": "ipython3",
   "version": "3.10.18"
  }
 },
 "nbformat": 4,
 "nbformat_minor": 5
}
